{
  "nbformat": 4,
  "nbformat_minor": 0,
  "metadata": {
    "kernelspec": {
      "display_name": "Python 3",
      "language": "python",
      "name": "python3"
    },
    "language_info": {
      "codemirror_mode": {
        "name": "ipython",
        "version": 3
      },
      "file_extension": ".py",
      "mimetype": "text/x-python",
      "name": "python",
      "nbconvert_exporter": "python",
      "pygments_lexer": "ipython3",
      "version": "3.7.6"
    },
    "colab": {
      "name": "TN2020-P2.ipynb",
      "provenance": [],
      "collapsed_sections": []
    },
    "widgets": {
      "application/vnd.jupyter.widget-state+json": {
        "ecf2a7ade15446c58a04cbad03278eb3": {
          "model_module": "@jupyter-widgets/controls",
          "model_name": "HBoxModel",
          "state": {
            "_view_name": "HBoxView",
            "_dom_classes": [],
            "_model_name": "HBoxModel",
            "_view_module": "@jupyter-widgets/controls",
            "_model_module_version": "1.5.0",
            "_view_count": null,
            "_view_module_version": "1.5.0",
            "box_style": "",
            "layout": "IPY_MODEL_d0a3be6f8429486ab5b19f27f24b94d9",
            "_model_module": "@jupyter-widgets/controls",
            "children": [
              "IPY_MODEL_14957efc7e6b4685979701c45e9295b2",
              "IPY_MODEL_07fcbb4a21a24e87a2e123562e238f6b"
            ]
          }
        },
        "d0a3be6f8429486ab5b19f27f24b94d9": {
          "model_module": "@jupyter-widgets/base",
          "model_name": "LayoutModel",
          "state": {
            "_view_name": "LayoutView",
            "grid_template_rows": null,
            "right": null,
            "justify_content": null,
            "_view_module": "@jupyter-widgets/base",
            "overflow": null,
            "_model_module_version": "1.2.0",
            "_view_count": null,
            "flex_flow": null,
            "width": null,
            "min_width": null,
            "border": null,
            "align_items": null,
            "bottom": null,
            "_model_module": "@jupyter-widgets/base",
            "top": null,
            "grid_column": null,
            "overflow_y": null,
            "overflow_x": null,
            "grid_auto_flow": null,
            "grid_area": null,
            "grid_template_columns": null,
            "flex": null,
            "_model_name": "LayoutModel",
            "justify_items": null,
            "grid_row": null,
            "max_height": null,
            "align_content": null,
            "visibility": null,
            "align_self": null,
            "height": null,
            "min_height": null,
            "padding": null,
            "grid_auto_rows": null,
            "grid_gap": null,
            "max_width": null,
            "order": null,
            "_view_module_version": "1.2.0",
            "grid_template_areas": null,
            "object_position": null,
            "object_fit": null,
            "grid_auto_columns": null,
            "margin": null,
            "display": null,
            "left": null
          }
        },
        "14957efc7e6b4685979701c45e9295b2": {
          "model_module": "@jupyter-widgets/controls",
          "model_name": "FloatProgressModel",
          "state": {
            "_view_name": "ProgressView",
            "style": "IPY_MODEL_4f12d8ce2bb44e5aad7ffd9f91eb91e7",
            "_dom_classes": [],
            "description": "",
            "_model_name": "FloatProgressModel",
            "bar_style": "success",
            "max": 1,
            "_view_module": "@jupyter-widgets/controls",
            "_model_module_version": "1.5.0",
            "value": 1,
            "_view_count": null,
            "_view_module_version": "1.5.0",
            "orientation": "horizontal",
            "min": 0,
            "description_tooltip": null,
            "_model_module": "@jupyter-widgets/controls",
            "layout": "IPY_MODEL_a23b0eff07fa4ddd83e46cb820cc178c"
          }
        },
        "07fcbb4a21a24e87a2e123562e238f6b": {
          "model_module": "@jupyter-widgets/controls",
          "model_name": "HTMLModel",
          "state": {
            "_view_name": "HTMLView",
            "style": "IPY_MODEL_89fab19658244969b658fab7836fb354",
            "_dom_classes": [],
            "description": "",
            "_model_name": "HTMLModel",
            "placeholder": "​",
            "_view_module": "@jupyter-widgets/controls",
            "_model_module_version": "1.5.0",
            "value": " 10/? [34:07&lt;00:00, 204.71s/it]",
            "_view_count": null,
            "_view_module_version": "1.5.0",
            "description_tooltip": null,
            "_model_module": "@jupyter-widgets/controls",
            "layout": "IPY_MODEL_7f77799e36b0468a948c03941b7793db"
          }
        },
        "4f12d8ce2bb44e5aad7ffd9f91eb91e7": {
          "model_module": "@jupyter-widgets/controls",
          "model_name": "ProgressStyleModel",
          "state": {
            "_view_name": "StyleView",
            "_model_name": "ProgressStyleModel",
            "description_width": "initial",
            "_view_module": "@jupyter-widgets/base",
            "_model_module_version": "1.5.0",
            "_view_count": null,
            "_view_module_version": "1.2.0",
            "bar_color": null,
            "_model_module": "@jupyter-widgets/controls"
          }
        },
        "a23b0eff07fa4ddd83e46cb820cc178c": {
          "model_module": "@jupyter-widgets/base",
          "model_name": "LayoutModel",
          "state": {
            "_view_name": "LayoutView",
            "grid_template_rows": null,
            "right": null,
            "justify_content": null,
            "_view_module": "@jupyter-widgets/base",
            "overflow": null,
            "_model_module_version": "1.2.0",
            "_view_count": null,
            "flex_flow": null,
            "width": null,
            "min_width": null,
            "border": null,
            "align_items": null,
            "bottom": null,
            "_model_module": "@jupyter-widgets/base",
            "top": null,
            "grid_column": null,
            "overflow_y": null,
            "overflow_x": null,
            "grid_auto_flow": null,
            "grid_area": null,
            "grid_template_columns": null,
            "flex": null,
            "_model_name": "LayoutModel",
            "justify_items": null,
            "grid_row": null,
            "max_height": null,
            "align_content": null,
            "visibility": null,
            "align_self": null,
            "height": null,
            "min_height": null,
            "padding": null,
            "grid_auto_rows": null,
            "grid_gap": null,
            "max_width": null,
            "order": null,
            "_view_module_version": "1.2.0",
            "grid_template_areas": null,
            "object_position": null,
            "object_fit": null,
            "grid_auto_columns": null,
            "margin": null,
            "display": null,
            "left": null
          }
        },
        "89fab19658244969b658fab7836fb354": {
          "model_module": "@jupyter-widgets/controls",
          "model_name": "DescriptionStyleModel",
          "state": {
            "_view_name": "StyleView",
            "_model_name": "DescriptionStyleModel",
            "description_width": "",
            "_view_module": "@jupyter-widgets/base",
            "_model_module_version": "1.5.0",
            "_view_count": null,
            "_view_module_version": "1.2.0",
            "_model_module": "@jupyter-widgets/controls"
          }
        },
        "7f77799e36b0468a948c03941b7793db": {
          "model_module": "@jupyter-widgets/base",
          "model_name": "LayoutModel",
          "state": {
            "_view_name": "LayoutView",
            "grid_template_rows": null,
            "right": null,
            "justify_content": null,
            "_view_module": "@jupyter-widgets/base",
            "overflow": null,
            "_model_module_version": "1.2.0",
            "_view_count": null,
            "flex_flow": null,
            "width": null,
            "min_width": null,
            "border": null,
            "align_items": null,
            "bottom": null,
            "_model_module": "@jupyter-widgets/base",
            "top": null,
            "grid_column": null,
            "overflow_y": null,
            "overflow_x": null,
            "grid_auto_flow": null,
            "grid_area": null,
            "grid_template_columns": null,
            "flex": null,
            "_model_name": "LayoutModel",
            "justify_items": null,
            "grid_row": null,
            "max_height": null,
            "align_content": null,
            "visibility": null,
            "align_self": null,
            "height": null,
            "min_height": null,
            "padding": null,
            "grid_auto_rows": null,
            "grid_gap": null,
            "max_width": null,
            "order": null,
            "_view_module_version": "1.2.0",
            "grid_template_areas": null,
            "object_position": null,
            "object_fit": null,
            "grid_auto_columns": null,
            "margin": null,
            "display": null,
            "left": null
          }
        },
        "d99bb10e53c940c8a68e4e0d7eac929e": {
          "model_module": "@jupyter-widgets/controls",
          "model_name": "HBoxModel",
          "state": {
            "_view_name": "HBoxView",
            "_dom_classes": [],
            "_model_name": "HBoxModel",
            "_view_module": "@jupyter-widgets/controls",
            "_model_module_version": "1.5.0",
            "_view_count": null,
            "_view_module_version": "1.5.0",
            "box_style": "",
            "layout": "IPY_MODEL_fe925a8f047a42b193ffac528549df87",
            "_model_module": "@jupyter-widgets/controls",
            "children": [
              "IPY_MODEL_d0babf79eaef4d1f9647d17d9334d66c",
              "IPY_MODEL_c664e3adfb4443aa9f50f83d0ec10b8b"
            ]
          }
        },
        "fe925a8f047a42b193ffac528549df87": {
          "model_module": "@jupyter-widgets/base",
          "model_name": "LayoutModel",
          "state": {
            "_view_name": "LayoutView",
            "grid_template_rows": null,
            "right": null,
            "justify_content": null,
            "_view_module": "@jupyter-widgets/base",
            "overflow": null,
            "_model_module_version": "1.2.0",
            "_view_count": null,
            "flex_flow": null,
            "width": null,
            "min_width": null,
            "border": null,
            "align_items": null,
            "bottom": null,
            "_model_module": "@jupyter-widgets/base",
            "top": null,
            "grid_column": null,
            "overflow_y": null,
            "overflow_x": null,
            "grid_auto_flow": null,
            "grid_area": null,
            "grid_template_columns": null,
            "flex": null,
            "_model_name": "LayoutModel",
            "justify_items": null,
            "grid_row": null,
            "max_height": null,
            "align_content": null,
            "visibility": null,
            "align_self": null,
            "height": null,
            "min_height": null,
            "padding": null,
            "grid_auto_rows": null,
            "grid_gap": null,
            "max_width": null,
            "order": null,
            "_view_module_version": "1.2.0",
            "grid_template_areas": null,
            "object_position": null,
            "object_fit": null,
            "grid_auto_columns": null,
            "margin": null,
            "display": null,
            "left": null
          }
        },
        "d0babf79eaef4d1f9647d17d9334d66c": {
          "model_module": "@jupyter-widgets/controls",
          "model_name": "FloatProgressModel",
          "state": {
            "_view_name": "ProgressView",
            "style": "IPY_MODEL_777727154ea24f98a752fac4f68b53a1",
            "_dom_classes": [],
            "description": "",
            "_model_name": "FloatProgressModel",
            "bar_style": "success",
            "max": 1,
            "_view_module": "@jupyter-widgets/controls",
            "_model_module_version": "1.5.0",
            "value": 1,
            "_view_count": null,
            "_view_module_version": "1.5.0",
            "orientation": "horizontal",
            "min": 0,
            "description_tooltip": null,
            "_model_module": "@jupyter-widgets/controls",
            "layout": "IPY_MODEL_a4b750750d964a89ad8af92d537a4049"
          }
        },
        "c664e3adfb4443aa9f50f83d0ec10b8b": {
          "model_module": "@jupyter-widgets/controls",
          "model_name": "HTMLModel",
          "state": {
            "_view_name": "HTMLView",
            "style": "IPY_MODEL_cb538c8a1cd043adb26f5ce828616c95",
            "_dom_classes": [],
            "description": "",
            "_model_name": "HTMLModel",
            "placeholder": "​",
            "_view_module": "@jupyter-widgets/controls",
            "_model_module_version": "1.5.0",
            "value": " 10/? [00:02&lt;00:00,  3.54it/s]",
            "_view_count": null,
            "_view_module_version": "1.5.0",
            "description_tooltip": null,
            "_model_module": "@jupyter-widgets/controls",
            "layout": "IPY_MODEL_942b65b8ec9a4bbbb50f19cd3344cb68"
          }
        },
        "777727154ea24f98a752fac4f68b53a1": {
          "model_module": "@jupyter-widgets/controls",
          "model_name": "ProgressStyleModel",
          "state": {
            "_view_name": "StyleView",
            "_model_name": "ProgressStyleModel",
            "description_width": "initial",
            "_view_module": "@jupyter-widgets/base",
            "_model_module_version": "1.5.0",
            "_view_count": null,
            "_view_module_version": "1.2.0",
            "bar_color": null,
            "_model_module": "@jupyter-widgets/controls"
          }
        },
        "a4b750750d964a89ad8af92d537a4049": {
          "model_module": "@jupyter-widgets/base",
          "model_name": "LayoutModel",
          "state": {
            "_view_name": "LayoutView",
            "grid_template_rows": null,
            "right": null,
            "justify_content": null,
            "_view_module": "@jupyter-widgets/base",
            "overflow": null,
            "_model_module_version": "1.2.0",
            "_view_count": null,
            "flex_flow": null,
            "width": null,
            "min_width": null,
            "border": null,
            "align_items": null,
            "bottom": null,
            "_model_module": "@jupyter-widgets/base",
            "top": null,
            "grid_column": null,
            "overflow_y": null,
            "overflow_x": null,
            "grid_auto_flow": null,
            "grid_area": null,
            "grid_template_columns": null,
            "flex": null,
            "_model_name": "LayoutModel",
            "justify_items": null,
            "grid_row": null,
            "max_height": null,
            "align_content": null,
            "visibility": null,
            "align_self": null,
            "height": null,
            "min_height": null,
            "padding": null,
            "grid_auto_rows": null,
            "grid_gap": null,
            "max_width": null,
            "order": null,
            "_view_module_version": "1.2.0",
            "grid_template_areas": null,
            "object_position": null,
            "object_fit": null,
            "grid_auto_columns": null,
            "margin": null,
            "display": null,
            "left": null
          }
        },
        "cb538c8a1cd043adb26f5ce828616c95": {
          "model_module": "@jupyter-widgets/controls",
          "model_name": "DescriptionStyleModel",
          "state": {
            "_view_name": "StyleView",
            "_model_name": "DescriptionStyleModel",
            "description_width": "",
            "_view_module": "@jupyter-widgets/base",
            "_model_module_version": "1.5.0",
            "_view_count": null,
            "_view_module_version": "1.2.0",
            "_model_module": "@jupyter-widgets/controls"
          }
        },
        "942b65b8ec9a4bbbb50f19cd3344cb68": {
          "model_module": "@jupyter-widgets/base",
          "model_name": "LayoutModel",
          "state": {
            "_view_name": "LayoutView",
            "grid_template_rows": null,
            "right": null,
            "justify_content": null,
            "_view_module": "@jupyter-widgets/base",
            "overflow": null,
            "_model_module_version": "1.2.0",
            "_view_count": null,
            "flex_flow": null,
            "width": null,
            "min_width": null,
            "border": null,
            "align_items": null,
            "bottom": null,
            "_model_module": "@jupyter-widgets/base",
            "top": null,
            "grid_column": null,
            "overflow_y": null,
            "overflow_x": null,
            "grid_auto_flow": null,
            "grid_area": null,
            "grid_template_columns": null,
            "flex": null,
            "_model_name": "LayoutModel",
            "justify_items": null,
            "grid_row": null,
            "max_height": null,
            "align_content": null,
            "visibility": null,
            "align_self": null,
            "height": null,
            "min_height": null,
            "padding": null,
            "grid_auto_rows": null,
            "grid_gap": null,
            "max_width": null,
            "order": null,
            "_view_module_version": "1.2.0",
            "grid_template_areas": null,
            "object_position": null,
            "object_fit": null,
            "grid_auto_columns": null,
            "margin": null,
            "display": null,
            "left": null
          }
        },
        "126c0ad362054b58a5bb100366df0c49": {
          "model_module": "@jupyter-widgets/controls",
          "model_name": "HBoxModel",
          "state": {
            "_view_name": "HBoxView",
            "_dom_classes": [],
            "_model_name": "HBoxModel",
            "_view_module": "@jupyter-widgets/controls",
            "_model_module_version": "1.5.0",
            "_view_count": null,
            "_view_module_version": "1.5.0",
            "box_style": "",
            "layout": "IPY_MODEL_fad20fe6a44e4aedaba360d037ab12ef",
            "_model_module": "@jupyter-widgets/controls",
            "children": [
              "IPY_MODEL_224213cc91ba4f7285cc9804d6aa3c35",
              "IPY_MODEL_8b6022bf36bf46c091c3a8e5f2041641"
            ]
          }
        },
        "fad20fe6a44e4aedaba360d037ab12ef": {
          "model_module": "@jupyter-widgets/base",
          "model_name": "LayoutModel",
          "state": {
            "_view_name": "LayoutView",
            "grid_template_rows": null,
            "right": null,
            "justify_content": null,
            "_view_module": "@jupyter-widgets/base",
            "overflow": null,
            "_model_module_version": "1.2.0",
            "_view_count": null,
            "flex_flow": null,
            "width": null,
            "min_width": null,
            "border": null,
            "align_items": null,
            "bottom": null,
            "_model_module": "@jupyter-widgets/base",
            "top": null,
            "grid_column": null,
            "overflow_y": null,
            "overflow_x": null,
            "grid_auto_flow": null,
            "grid_area": null,
            "grid_template_columns": null,
            "flex": null,
            "_model_name": "LayoutModel",
            "justify_items": null,
            "grid_row": null,
            "max_height": null,
            "align_content": null,
            "visibility": null,
            "align_self": null,
            "height": null,
            "min_height": null,
            "padding": null,
            "grid_auto_rows": null,
            "grid_gap": null,
            "max_width": null,
            "order": null,
            "_view_module_version": "1.2.0",
            "grid_template_areas": null,
            "object_position": null,
            "object_fit": null,
            "grid_auto_columns": null,
            "margin": null,
            "display": null,
            "left": null
          }
        },
        "224213cc91ba4f7285cc9804d6aa3c35": {
          "model_module": "@jupyter-widgets/controls",
          "model_name": "FloatProgressModel",
          "state": {
            "_view_name": "ProgressView",
            "style": "IPY_MODEL_f8737446bf314a32a1accadbb9cc03fd",
            "_dom_classes": [],
            "description": "",
            "_model_name": "FloatProgressModel",
            "bar_style": "success",
            "max": 1,
            "_view_module": "@jupyter-widgets/controls",
            "_model_module_version": "1.5.0",
            "value": 1,
            "_view_count": null,
            "_view_module_version": "1.5.0",
            "orientation": "horizontal",
            "min": 0,
            "description_tooltip": null,
            "_model_module": "@jupyter-widgets/controls",
            "layout": "IPY_MODEL_0b03801265594f138ae79338f769116b"
          }
        },
        "8b6022bf36bf46c091c3a8e5f2041641": {
          "model_module": "@jupyter-widgets/controls",
          "model_name": "HTMLModel",
          "state": {
            "_view_name": "HTMLView",
            "style": "IPY_MODEL_7796e4a23c6548159820f6abf35944aa",
            "_dom_classes": [],
            "description": "",
            "_model_name": "HTMLModel",
            "placeholder": "​",
            "_view_module": "@jupyter-widgets/controls",
            "_model_module_version": "1.5.0",
            "value": " 10/? [34:00&lt;00:00, 204.07s/it]",
            "_view_count": null,
            "_view_module_version": "1.5.0",
            "description_tooltip": null,
            "_model_module": "@jupyter-widgets/controls",
            "layout": "IPY_MODEL_da2304f1d7604f92b673113a49d78311"
          }
        },
        "f8737446bf314a32a1accadbb9cc03fd": {
          "model_module": "@jupyter-widgets/controls",
          "model_name": "ProgressStyleModel",
          "state": {
            "_view_name": "StyleView",
            "_model_name": "ProgressStyleModel",
            "description_width": "initial",
            "_view_module": "@jupyter-widgets/base",
            "_model_module_version": "1.5.0",
            "_view_count": null,
            "_view_module_version": "1.2.0",
            "bar_color": null,
            "_model_module": "@jupyter-widgets/controls"
          }
        },
        "0b03801265594f138ae79338f769116b": {
          "model_module": "@jupyter-widgets/base",
          "model_name": "LayoutModel",
          "state": {
            "_view_name": "LayoutView",
            "grid_template_rows": null,
            "right": null,
            "justify_content": null,
            "_view_module": "@jupyter-widgets/base",
            "overflow": null,
            "_model_module_version": "1.2.0",
            "_view_count": null,
            "flex_flow": null,
            "width": null,
            "min_width": null,
            "border": null,
            "align_items": null,
            "bottom": null,
            "_model_module": "@jupyter-widgets/base",
            "top": null,
            "grid_column": null,
            "overflow_y": null,
            "overflow_x": null,
            "grid_auto_flow": null,
            "grid_area": null,
            "grid_template_columns": null,
            "flex": null,
            "_model_name": "LayoutModel",
            "justify_items": null,
            "grid_row": null,
            "max_height": null,
            "align_content": null,
            "visibility": null,
            "align_self": null,
            "height": null,
            "min_height": null,
            "padding": null,
            "grid_auto_rows": null,
            "grid_gap": null,
            "max_width": null,
            "order": null,
            "_view_module_version": "1.2.0",
            "grid_template_areas": null,
            "object_position": null,
            "object_fit": null,
            "grid_auto_columns": null,
            "margin": null,
            "display": null,
            "left": null
          }
        },
        "7796e4a23c6548159820f6abf35944aa": {
          "model_module": "@jupyter-widgets/controls",
          "model_name": "DescriptionStyleModel",
          "state": {
            "_view_name": "StyleView",
            "_model_name": "DescriptionStyleModel",
            "description_width": "",
            "_view_module": "@jupyter-widgets/base",
            "_model_module_version": "1.5.0",
            "_view_count": null,
            "_view_module_version": "1.2.0",
            "_model_module": "@jupyter-widgets/controls"
          }
        },
        "da2304f1d7604f92b673113a49d78311": {
          "model_module": "@jupyter-widgets/base",
          "model_name": "LayoutModel",
          "state": {
            "_view_name": "LayoutView",
            "grid_template_rows": null,
            "right": null,
            "justify_content": null,
            "_view_module": "@jupyter-widgets/base",
            "overflow": null,
            "_model_module_version": "1.2.0",
            "_view_count": null,
            "flex_flow": null,
            "width": null,
            "min_width": null,
            "border": null,
            "align_items": null,
            "bottom": null,
            "_model_module": "@jupyter-widgets/base",
            "top": null,
            "grid_column": null,
            "overflow_y": null,
            "overflow_x": null,
            "grid_auto_flow": null,
            "grid_area": null,
            "grid_template_columns": null,
            "flex": null,
            "_model_name": "LayoutModel",
            "justify_items": null,
            "grid_row": null,
            "max_height": null,
            "align_content": null,
            "visibility": null,
            "align_self": null,
            "height": null,
            "min_height": null,
            "padding": null,
            "grid_auto_rows": null,
            "grid_gap": null,
            "max_width": null,
            "order": null,
            "_view_module_version": "1.2.0",
            "grid_template_areas": null,
            "object_position": null,
            "object_fit": null,
            "grid_auto_columns": null,
            "margin": null,
            "display": null,
            "left": null
          }
        },
        "c8de3a74d8a74d7ab655cd138df0c659": {
          "model_module": "@jupyter-widgets/controls",
          "model_name": "HBoxModel",
          "state": {
            "_view_name": "HBoxView",
            "_dom_classes": [],
            "_model_name": "HBoxModel",
            "_view_module": "@jupyter-widgets/controls",
            "_model_module_version": "1.5.0",
            "_view_count": null,
            "_view_module_version": "1.5.0",
            "box_style": "",
            "layout": "IPY_MODEL_576a8688bfe64739a8a39fdce8416b00",
            "_model_module": "@jupyter-widgets/controls",
            "children": [
              "IPY_MODEL_435bdc152424453ca6d5e492ffc9ab84",
              "IPY_MODEL_42ad4d8b4af44ac1a385e4a890a7be3c"
            ]
          }
        },
        "576a8688bfe64739a8a39fdce8416b00": {
          "model_module": "@jupyter-widgets/base",
          "model_name": "LayoutModel",
          "state": {
            "_view_name": "LayoutView",
            "grid_template_rows": null,
            "right": null,
            "justify_content": null,
            "_view_module": "@jupyter-widgets/base",
            "overflow": null,
            "_model_module_version": "1.2.0",
            "_view_count": null,
            "flex_flow": null,
            "width": null,
            "min_width": null,
            "border": null,
            "align_items": null,
            "bottom": null,
            "_model_module": "@jupyter-widgets/base",
            "top": null,
            "grid_column": null,
            "overflow_y": null,
            "overflow_x": null,
            "grid_auto_flow": null,
            "grid_area": null,
            "grid_template_columns": null,
            "flex": null,
            "_model_name": "LayoutModel",
            "justify_items": null,
            "grid_row": null,
            "max_height": null,
            "align_content": null,
            "visibility": null,
            "align_self": null,
            "height": null,
            "min_height": null,
            "padding": null,
            "grid_auto_rows": null,
            "grid_gap": null,
            "max_width": null,
            "order": null,
            "_view_module_version": "1.2.0",
            "grid_template_areas": null,
            "object_position": null,
            "object_fit": null,
            "grid_auto_columns": null,
            "margin": null,
            "display": null,
            "left": null
          }
        },
        "435bdc152424453ca6d5e492ffc9ab84": {
          "model_module": "@jupyter-widgets/controls",
          "model_name": "FloatProgressModel",
          "state": {
            "_view_name": "ProgressView",
            "style": "IPY_MODEL_eb49bfde35b04281a3d704ca95c75c4d",
            "_dom_classes": [],
            "description": "",
            "_model_name": "FloatProgressModel",
            "bar_style": "success",
            "max": 1,
            "_view_module": "@jupyter-widgets/controls",
            "_model_module_version": "1.5.0",
            "value": 1,
            "_view_count": null,
            "_view_module_version": "1.5.0",
            "orientation": "horizontal",
            "min": 0,
            "description_tooltip": null,
            "_model_module": "@jupyter-widgets/controls",
            "layout": "IPY_MODEL_41f5e3c69982436fb81157e3f7974c9c"
          }
        },
        "42ad4d8b4af44ac1a385e4a890a7be3c": {
          "model_module": "@jupyter-widgets/controls",
          "model_name": "HTMLModel",
          "state": {
            "_view_name": "HTMLView",
            "style": "IPY_MODEL_b2ca768e32444162b8511a92c6262599",
            "_dom_classes": [],
            "description": "",
            "_model_name": "HTMLModel",
            "placeholder": "​",
            "_view_module": "@jupyter-widgets/controls",
            "_model_module_version": "1.5.0",
            "value": " 20/? [00:06&lt;00:00,  3.11it/s]",
            "_view_count": null,
            "_view_module_version": "1.5.0",
            "description_tooltip": null,
            "_model_module": "@jupyter-widgets/controls",
            "layout": "IPY_MODEL_e6722ce3168a4d36b482eaeda058310a"
          }
        },
        "eb49bfde35b04281a3d704ca95c75c4d": {
          "model_module": "@jupyter-widgets/controls",
          "model_name": "ProgressStyleModel",
          "state": {
            "_view_name": "StyleView",
            "_model_name": "ProgressStyleModel",
            "description_width": "initial",
            "_view_module": "@jupyter-widgets/base",
            "_model_module_version": "1.5.0",
            "_view_count": null,
            "_view_module_version": "1.2.0",
            "bar_color": null,
            "_model_module": "@jupyter-widgets/controls"
          }
        },
        "41f5e3c69982436fb81157e3f7974c9c": {
          "model_module": "@jupyter-widgets/base",
          "model_name": "LayoutModel",
          "state": {
            "_view_name": "LayoutView",
            "grid_template_rows": null,
            "right": null,
            "justify_content": null,
            "_view_module": "@jupyter-widgets/base",
            "overflow": null,
            "_model_module_version": "1.2.0",
            "_view_count": null,
            "flex_flow": null,
            "width": null,
            "min_width": null,
            "border": null,
            "align_items": null,
            "bottom": null,
            "_model_module": "@jupyter-widgets/base",
            "top": null,
            "grid_column": null,
            "overflow_y": null,
            "overflow_x": null,
            "grid_auto_flow": null,
            "grid_area": null,
            "grid_template_columns": null,
            "flex": null,
            "_model_name": "LayoutModel",
            "justify_items": null,
            "grid_row": null,
            "max_height": null,
            "align_content": null,
            "visibility": null,
            "align_self": null,
            "height": null,
            "min_height": null,
            "padding": null,
            "grid_auto_rows": null,
            "grid_gap": null,
            "max_width": null,
            "order": null,
            "_view_module_version": "1.2.0",
            "grid_template_areas": null,
            "object_position": null,
            "object_fit": null,
            "grid_auto_columns": null,
            "margin": null,
            "display": null,
            "left": null
          }
        },
        "b2ca768e32444162b8511a92c6262599": {
          "model_module": "@jupyter-widgets/controls",
          "model_name": "DescriptionStyleModel",
          "state": {
            "_view_name": "StyleView",
            "_model_name": "DescriptionStyleModel",
            "description_width": "",
            "_view_module": "@jupyter-widgets/base",
            "_model_module_version": "1.5.0",
            "_view_count": null,
            "_view_module_version": "1.2.0",
            "_model_module": "@jupyter-widgets/controls"
          }
        },
        "e6722ce3168a4d36b482eaeda058310a": {
          "model_module": "@jupyter-widgets/base",
          "model_name": "LayoutModel",
          "state": {
            "_view_name": "LayoutView",
            "grid_template_rows": null,
            "right": null,
            "justify_content": null,
            "_view_module": "@jupyter-widgets/base",
            "overflow": null,
            "_model_module_version": "1.2.0",
            "_view_count": null,
            "flex_flow": null,
            "width": null,
            "min_width": null,
            "border": null,
            "align_items": null,
            "bottom": null,
            "_model_module": "@jupyter-widgets/base",
            "top": null,
            "grid_column": null,
            "overflow_y": null,
            "overflow_x": null,
            "grid_auto_flow": null,
            "grid_area": null,
            "grid_template_columns": null,
            "flex": null,
            "_model_name": "LayoutModel",
            "justify_items": null,
            "grid_row": null,
            "max_height": null,
            "align_content": null,
            "visibility": null,
            "align_self": null,
            "height": null,
            "min_height": null,
            "padding": null,
            "grid_auto_rows": null,
            "grid_gap": null,
            "max_width": null,
            "order": null,
            "_view_module_version": "1.2.0",
            "grid_template_areas": null,
            "object_position": null,
            "object_fit": null,
            "grid_auto_columns": null,
            "margin": null,
            "display": null,
            "left": null
          }
        },
        "0a12a0bac15341c2a381750ee7f50f27": {
          "model_module": "@jupyter-widgets/controls",
          "model_name": "HBoxModel",
          "state": {
            "_view_name": "HBoxView",
            "_dom_classes": [],
            "_model_name": "HBoxModel",
            "_view_module": "@jupyter-widgets/controls",
            "_model_module_version": "1.5.0",
            "_view_count": null,
            "_view_module_version": "1.5.0",
            "box_style": "",
            "layout": "IPY_MODEL_4023cfb6e60b481c8f57eca290fe1a4b",
            "_model_module": "@jupyter-widgets/controls",
            "children": [
              "IPY_MODEL_12b5ad65179c4cf5a0f9cbfbc34390fe",
              "IPY_MODEL_185b1d5047a340de84b56bc905d9d2cd"
            ]
          }
        },
        "4023cfb6e60b481c8f57eca290fe1a4b": {
          "model_module": "@jupyter-widgets/base",
          "model_name": "LayoutModel",
          "state": {
            "_view_name": "LayoutView",
            "grid_template_rows": null,
            "right": null,
            "justify_content": null,
            "_view_module": "@jupyter-widgets/base",
            "overflow": null,
            "_model_module_version": "1.2.0",
            "_view_count": null,
            "flex_flow": null,
            "width": null,
            "min_width": null,
            "border": null,
            "align_items": null,
            "bottom": null,
            "_model_module": "@jupyter-widgets/base",
            "top": null,
            "grid_column": null,
            "overflow_y": null,
            "overflow_x": null,
            "grid_auto_flow": null,
            "grid_area": null,
            "grid_template_columns": null,
            "flex": null,
            "_model_name": "LayoutModel",
            "justify_items": null,
            "grid_row": null,
            "max_height": null,
            "align_content": null,
            "visibility": null,
            "align_self": null,
            "height": null,
            "min_height": null,
            "padding": null,
            "grid_auto_rows": null,
            "grid_gap": null,
            "max_width": null,
            "order": null,
            "_view_module_version": "1.2.0",
            "grid_template_areas": null,
            "object_position": null,
            "object_fit": null,
            "grid_auto_columns": null,
            "margin": null,
            "display": null,
            "left": null
          }
        },
        "12b5ad65179c4cf5a0f9cbfbc34390fe": {
          "model_module": "@jupyter-widgets/controls",
          "model_name": "FloatProgressModel",
          "state": {
            "_view_name": "ProgressView",
            "style": "IPY_MODEL_05ab48274f3b498a87859dc84fa162d4",
            "_dom_classes": [],
            "description": "",
            "_model_name": "FloatProgressModel",
            "bar_style": "success",
            "max": 1,
            "_view_module": "@jupyter-widgets/controls",
            "_model_module_version": "1.5.0",
            "value": 1,
            "_view_count": null,
            "_view_module_version": "1.5.0",
            "orientation": "horizontal",
            "min": 0,
            "description_tooltip": null,
            "_model_module": "@jupyter-widgets/controls",
            "layout": "IPY_MODEL_166731b33610478fabb69c3531f168d3"
          }
        },
        "185b1d5047a340de84b56bc905d9d2cd": {
          "model_module": "@jupyter-widgets/controls",
          "model_name": "HTMLModel",
          "state": {
            "_view_name": "HTMLView",
            "style": "IPY_MODEL_a104fb72983f4e2986dc7b1f49c0c706",
            "_dom_classes": [],
            "description": "",
            "_model_name": "HTMLModel",
            "placeholder": "​",
            "_view_module": "@jupyter-widgets/controls",
            "_model_module_version": "1.5.0",
            "value": " 10/? [33:47&lt;00:00, 202.75s/it]",
            "_view_count": null,
            "_view_module_version": "1.5.0",
            "description_tooltip": null,
            "_model_module": "@jupyter-widgets/controls",
            "layout": "IPY_MODEL_1ea2c6e1eed04b30842724f11cc60ec9"
          }
        },
        "05ab48274f3b498a87859dc84fa162d4": {
          "model_module": "@jupyter-widgets/controls",
          "model_name": "ProgressStyleModel",
          "state": {
            "_view_name": "StyleView",
            "_model_name": "ProgressStyleModel",
            "description_width": "initial",
            "_view_module": "@jupyter-widgets/base",
            "_model_module_version": "1.5.0",
            "_view_count": null,
            "_view_module_version": "1.2.0",
            "bar_color": null,
            "_model_module": "@jupyter-widgets/controls"
          }
        },
        "166731b33610478fabb69c3531f168d3": {
          "model_module": "@jupyter-widgets/base",
          "model_name": "LayoutModel",
          "state": {
            "_view_name": "LayoutView",
            "grid_template_rows": null,
            "right": null,
            "justify_content": null,
            "_view_module": "@jupyter-widgets/base",
            "overflow": null,
            "_model_module_version": "1.2.0",
            "_view_count": null,
            "flex_flow": null,
            "width": null,
            "min_width": null,
            "border": null,
            "align_items": null,
            "bottom": null,
            "_model_module": "@jupyter-widgets/base",
            "top": null,
            "grid_column": null,
            "overflow_y": null,
            "overflow_x": null,
            "grid_auto_flow": null,
            "grid_area": null,
            "grid_template_columns": null,
            "flex": null,
            "_model_name": "LayoutModel",
            "justify_items": null,
            "grid_row": null,
            "max_height": null,
            "align_content": null,
            "visibility": null,
            "align_self": null,
            "height": null,
            "min_height": null,
            "padding": null,
            "grid_auto_rows": null,
            "grid_gap": null,
            "max_width": null,
            "order": null,
            "_view_module_version": "1.2.0",
            "grid_template_areas": null,
            "object_position": null,
            "object_fit": null,
            "grid_auto_columns": null,
            "margin": null,
            "display": null,
            "left": null
          }
        },
        "a104fb72983f4e2986dc7b1f49c0c706": {
          "model_module": "@jupyter-widgets/controls",
          "model_name": "DescriptionStyleModel",
          "state": {
            "_view_name": "StyleView",
            "_model_name": "DescriptionStyleModel",
            "description_width": "",
            "_view_module": "@jupyter-widgets/base",
            "_model_module_version": "1.5.0",
            "_view_count": null,
            "_view_module_version": "1.2.0",
            "_model_module": "@jupyter-widgets/controls"
          }
        },
        "1ea2c6e1eed04b30842724f11cc60ec9": {
          "model_module": "@jupyter-widgets/base",
          "model_name": "LayoutModel",
          "state": {
            "_view_name": "LayoutView",
            "grid_template_rows": null,
            "right": null,
            "justify_content": null,
            "_view_module": "@jupyter-widgets/base",
            "overflow": null,
            "_model_module_version": "1.2.0",
            "_view_count": null,
            "flex_flow": null,
            "width": null,
            "min_width": null,
            "border": null,
            "align_items": null,
            "bottom": null,
            "_model_module": "@jupyter-widgets/base",
            "top": null,
            "grid_column": null,
            "overflow_y": null,
            "overflow_x": null,
            "grid_auto_flow": null,
            "grid_area": null,
            "grid_template_columns": null,
            "flex": null,
            "_model_name": "LayoutModel",
            "justify_items": null,
            "grid_row": null,
            "max_height": null,
            "align_content": null,
            "visibility": null,
            "align_self": null,
            "height": null,
            "min_height": null,
            "padding": null,
            "grid_auto_rows": null,
            "grid_gap": null,
            "max_width": null,
            "order": null,
            "_view_module_version": "1.2.0",
            "grid_template_areas": null,
            "object_position": null,
            "object_fit": null,
            "grid_auto_columns": null,
            "margin": null,
            "display": null,
            "left": null
          }
        },
        "5b09e5468a994aebbf6ebe36bd3c5825": {
          "model_module": "@jupyter-widgets/controls",
          "model_name": "HBoxModel",
          "state": {
            "_view_name": "HBoxView",
            "_dom_classes": [],
            "_model_name": "HBoxModel",
            "_view_module": "@jupyter-widgets/controls",
            "_model_module_version": "1.5.0",
            "_view_count": null,
            "_view_module_version": "1.5.0",
            "box_style": "",
            "layout": "IPY_MODEL_3e1bea9f23bc4cac81b6c6021cf3b9c6",
            "_model_module": "@jupyter-widgets/controls",
            "children": [
              "IPY_MODEL_c9d71469058e43db8501ab2aad804bb7",
              "IPY_MODEL_5429a6cae4284009b445b6b3a2e4d91a"
            ]
          }
        },
        "3e1bea9f23bc4cac81b6c6021cf3b9c6": {
          "model_module": "@jupyter-widgets/base",
          "model_name": "LayoutModel",
          "state": {
            "_view_name": "LayoutView",
            "grid_template_rows": null,
            "right": null,
            "justify_content": null,
            "_view_module": "@jupyter-widgets/base",
            "overflow": null,
            "_model_module_version": "1.2.0",
            "_view_count": null,
            "flex_flow": null,
            "width": null,
            "min_width": null,
            "border": null,
            "align_items": null,
            "bottom": null,
            "_model_module": "@jupyter-widgets/base",
            "top": null,
            "grid_column": null,
            "overflow_y": null,
            "overflow_x": null,
            "grid_auto_flow": null,
            "grid_area": null,
            "grid_template_columns": null,
            "flex": null,
            "_model_name": "LayoutModel",
            "justify_items": null,
            "grid_row": null,
            "max_height": null,
            "align_content": null,
            "visibility": null,
            "align_self": null,
            "height": null,
            "min_height": null,
            "padding": null,
            "grid_auto_rows": null,
            "grid_gap": null,
            "max_width": null,
            "order": null,
            "_view_module_version": "1.2.0",
            "grid_template_areas": null,
            "object_position": null,
            "object_fit": null,
            "grid_auto_columns": null,
            "margin": null,
            "display": null,
            "left": null
          }
        },
        "c9d71469058e43db8501ab2aad804bb7": {
          "model_module": "@jupyter-widgets/controls",
          "model_name": "FloatProgressModel",
          "state": {
            "_view_name": "ProgressView",
            "style": "IPY_MODEL_88455696938745dd8b2f19c96fcbeae7",
            "_dom_classes": [],
            "description": "",
            "_model_name": "FloatProgressModel",
            "bar_style": "success",
            "max": 1,
            "_view_module": "@jupyter-widgets/controls",
            "_model_module_version": "1.5.0",
            "value": 1,
            "_view_count": null,
            "_view_module_version": "1.5.0",
            "orientation": "horizontal",
            "min": 0,
            "description_tooltip": null,
            "_model_module": "@jupyter-widgets/controls",
            "layout": "IPY_MODEL_46d8c2ebf6a84f9fa59176ef09d28cb8"
          }
        },
        "5429a6cae4284009b445b6b3a2e4d91a": {
          "model_module": "@jupyter-widgets/controls",
          "model_name": "HTMLModel",
          "state": {
            "_view_name": "HTMLView",
            "style": "IPY_MODEL_666af09fabca4d809c35daae214f6526",
            "_dom_classes": [],
            "description": "",
            "_model_name": "HTMLModel",
            "placeholder": "​",
            "_view_module": "@jupyter-widgets/controls",
            "_model_module_version": "1.5.0",
            "value": " 25/? [32:08&lt;00:00, 77.14s/it]",
            "_view_count": null,
            "_view_module_version": "1.5.0",
            "description_tooltip": null,
            "_model_module": "@jupyter-widgets/controls",
            "layout": "IPY_MODEL_8105775496ce4e31979052f1c39627af"
          }
        },
        "88455696938745dd8b2f19c96fcbeae7": {
          "model_module": "@jupyter-widgets/controls",
          "model_name": "ProgressStyleModel",
          "state": {
            "_view_name": "StyleView",
            "_model_name": "ProgressStyleModel",
            "description_width": "initial",
            "_view_module": "@jupyter-widgets/base",
            "_model_module_version": "1.5.0",
            "_view_count": null,
            "_view_module_version": "1.2.0",
            "bar_color": null,
            "_model_module": "@jupyter-widgets/controls"
          }
        },
        "46d8c2ebf6a84f9fa59176ef09d28cb8": {
          "model_module": "@jupyter-widgets/base",
          "model_name": "LayoutModel",
          "state": {
            "_view_name": "LayoutView",
            "grid_template_rows": null,
            "right": null,
            "justify_content": null,
            "_view_module": "@jupyter-widgets/base",
            "overflow": null,
            "_model_module_version": "1.2.0",
            "_view_count": null,
            "flex_flow": null,
            "width": null,
            "min_width": null,
            "border": null,
            "align_items": null,
            "bottom": null,
            "_model_module": "@jupyter-widgets/base",
            "top": null,
            "grid_column": null,
            "overflow_y": null,
            "overflow_x": null,
            "grid_auto_flow": null,
            "grid_area": null,
            "grid_template_columns": null,
            "flex": null,
            "_model_name": "LayoutModel",
            "justify_items": null,
            "grid_row": null,
            "max_height": null,
            "align_content": null,
            "visibility": null,
            "align_self": null,
            "height": null,
            "min_height": null,
            "padding": null,
            "grid_auto_rows": null,
            "grid_gap": null,
            "max_width": null,
            "order": null,
            "_view_module_version": "1.2.0",
            "grid_template_areas": null,
            "object_position": null,
            "object_fit": null,
            "grid_auto_columns": null,
            "margin": null,
            "display": null,
            "left": null
          }
        },
        "666af09fabca4d809c35daae214f6526": {
          "model_module": "@jupyter-widgets/controls",
          "model_name": "DescriptionStyleModel",
          "state": {
            "_view_name": "StyleView",
            "_model_name": "DescriptionStyleModel",
            "description_width": "",
            "_view_module": "@jupyter-widgets/base",
            "_model_module_version": "1.5.0",
            "_view_count": null,
            "_view_module_version": "1.2.0",
            "_model_module": "@jupyter-widgets/controls"
          }
        },
        "8105775496ce4e31979052f1c39627af": {
          "model_module": "@jupyter-widgets/base",
          "model_name": "LayoutModel",
          "state": {
            "_view_name": "LayoutView",
            "grid_template_rows": null,
            "right": null,
            "justify_content": null,
            "_view_module": "@jupyter-widgets/base",
            "overflow": null,
            "_model_module_version": "1.2.0",
            "_view_count": null,
            "flex_flow": null,
            "width": null,
            "min_width": null,
            "border": null,
            "align_items": null,
            "bottom": null,
            "_model_module": "@jupyter-widgets/base",
            "top": null,
            "grid_column": null,
            "overflow_y": null,
            "overflow_x": null,
            "grid_auto_flow": null,
            "grid_area": null,
            "grid_template_columns": null,
            "flex": null,
            "_model_name": "LayoutModel",
            "justify_items": null,
            "grid_row": null,
            "max_height": null,
            "align_content": null,
            "visibility": null,
            "align_self": null,
            "height": null,
            "min_height": null,
            "padding": null,
            "grid_auto_rows": null,
            "grid_gap": null,
            "max_width": null,
            "order": null,
            "_view_module_version": "1.2.0",
            "grid_template_areas": null,
            "object_position": null,
            "object_fit": null,
            "grid_auto_columns": null,
            "margin": null,
            "display": null,
            "left": null
          }
        },
        "d17bca3075bd4d3a9e9b38d98202065b": {
          "model_module": "@jupyter-widgets/controls",
          "model_name": "HBoxModel",
          "state": {
            "_view_name": "HBoxView",
            "_dom_classes": [],
            "_model_name": "HBoxModel",
            "_view_module": "@jupyter-widgets/controls",
            "_model_module_version": "1.5.0",
            "_view_count": null,
            "_view_module_version": "1.5.0",
            "box_style": "",
            "layout": "IPY_MODEL_20921532ac1f497793729ca8ffa28a7e",
            "_model_module": "@jupyter-widgets/controls",
            "children": [
              "IPY_MODEL_24af7afa658847dea63618b11420e478",
              "IPY_MODEL_1576d86281bb4825936543b07a899873"
            ]
          }
        },
        "20921532ac1f497793729ca8ffa28a7e": {
          "model_module": "@jupyter-widgets/base",
          "model_name": "LayoutModel",
          "state": {
            "_view_name": "LayoutView",
            "grid_template_rows": null,
            "right": null,
            "justify_content": null,
            "_view_module": "@jupyter-widgets/base",
            "overflow": null,
            "_model_module_version": "1.2.0",
            "_view_count": null,
            "flex_flow": null,
            "width": null,
            "min_width": null,
            "border": null,
            "align_items": null,
            "bottom": null,
            "_model_module": "@jupyter-widgets/base",
            "top": null,
            "grid_column": null,
            "overflow_y": null,
            "overflow_x": null,
            "grid_auto_flow": null,
            "grid_area": null,
            "grid_template_columns": null,
            "flex": null,
            "_model_name": "LayoutModel",
            "justify_items": null,
            "grid_row": null,
            "max_height": null,
            "align_content": null,
            "visibility": null,
            "align_self": null,
            "height": null,
            "min_height": null,
            "padding": null,
            "grid_auto_rows": null,
            "grid_gap": null,
            "max_width": null,
            "order": null,
            "_view_module_version": "1.2.0",
            "grid_template_areas": null,
            "object_position": null,
            "object_fit": null,
            "grid_auto_columns": null,
            "margin": null,
            "display": null,
            "left": null
          }
        },
        "24af7afa658847dea63618b11420e478": {
          "model_module": "@jupyter-widgets/controls",
          "model_name": "FloatProgressModel",
          "state": {
            "_view_name": "ProgressView",
            "style": "IPY_MODEL_82256465a3734d9fbb07ea864f6347d0",
            "_dom_classes": [],
            "description": "",
            "_model_name": "FloatProgressModel",
            "bar_style": "success",
            "max": 1,
            "_view_module": "@jupyter-widgets/controls",
            "_model_module_version": "1.5.0",
            "value": 1,
            "_view_count": null,
            "_view_module_version": "1.5.0",
            "orientation": "horizontal",
            "min": 0,
            "description_tooltip": null,
            "_model_module": "@jupyter-widgets/controls",
            "layout": "IPY_MODEL_3de0bb75b0464d3d818cdc5004803795"
          }
        },
        "1576d86281bb4825936543b07a899873": {
          "model_module": "@jupyter-widgets/controls",
          "model_name": "HTMLModel",
          "state": {
            "_view_name": "HTMLView",
            "style": "IPY_MODEL_5ea6ba8121a84074b7193187a197692f",
            "_dom_classes": [],
            "description": "",
            "_model_name": "HTMLModel",
            "placeholder": "​",
            "_view_module": "@jupyter-widgets/controls",
            "_model_module_version": "1.5.0",
            "value": " 10/? [00:51&lt;00:00,  5.14s/it]",
            "_view_count": null,
            "_view_module_version": "1.5.0",
            "description_tooltip": null,
            "_model_module": "@jupyter-widgets/controls",
            "layout": "IPY_MODEL_93b9dbde1f8944e6826a857179ca5b8b"
          }
        },
        "82256465a3734d9fbb07ea864f6347d0": {
          "model_module": "@jupyter-widgets/controls",
          "model_name": "ProgressStyleModel",
          "state": {
            "_view_name": "StyleView",
            "_model_name": "ProgressStyleModel",
            "description_width": "initial",
            "_view_module": "@jupyter-widgets/base",
            "_model_module_version": "1.5.0",
            "_view_count": null,
            "_view_module_version": "1.2.0",
            "bar_color": null,
            "_model_module": "@jupyter-widgets/controls"
          }
        },
        "3de0bb75b0464d3d818cdc5004803795": {
          "model_module": "@jupyter-widgets/base",
          "model_name": "LayoutModel",
          "state": {
            "_view_name": "LayoutView",
            "grid_template_rows": null,
            "right": null,
            "justify_content": null,
            "_view_module": "@jupyter-widgets/base",
            "overflow": null,
            "_model_module_version": "1.2.0",
            "_view_count": null,
            "flex_flow": null,
            "width": null,
            "min_width": null,
            "border": null,
            "align_items": null,
            "bottom": null,
            "_model_module": "@jupyter-widgets/base",
            "top": null,
            "grid_column": null,
            "overflow_y": null,
            "overflow_x": null,
            "grid_auto_flow": null,
            "grid_area": null,
            "grid_template_columns": null,
            "flex": null,
            "_model_name": "LayoutModel",
            "justify_items": null,
            "grid_row": null,
            "max_height": null,
            "align_content": null,
            "visibility": null,
            "align_self": null,
            "height": null,
            "min_height": null,
            "padding": null,
            "grid_auto_rows": null,
            "grid_gap": null,
            "max_width": null,
            "order": null,
            "_view_module_version": "1.2.0",
            "grid_template_areas": null,
            "object_position": null,
            "object_fit": null,
            "grid_auto_columns": null,
            "margin": null,
            "display": null,
            "left": null
          }
        },
        "5ea6ba8121a84074b7193187a197692f": {
          "model_module": "@jupyter-widgets/controls",
          "model_name": "DescriptionStyleModel",
          "state": {
            "_view_name": "StyleView",
            "_model_name": "DescriptionStyleModel",
            "description_width": "",
            "_view_module": "@jupyter-widgets/base",
            "_model_module_version": "1.5.0",
            "_view_count": null,
            "_view_module_version": "1.2.0",
            "_model_module": "@jupyter-widgets/controls"
          }
        },
        "93b9dbde1f8944e6826a857179ca5b8b": {
          "model_module": "@jupyter-widgets/base",
          "model_name": "LayoutModel",
          "state": {
            "_view_name": "LayoutView",
            "grid_template_rows": null,
            "right": null,
            "justify_content": null,
            "_view_module": "@jupyter-widgets/base",
            "overflow": null,
            "_model_module_version": "1.2.0",
            "_view_count": null,
            "flex_flow": null,
            "width": null,
            "min_width": null,
            "border": null,
            "align_items": null,
            "bottom": null,
            "_model_module": "@jupyter-widgets/base",
            "top": null,
            "grid_column": null,
            "overflow_y": null,
            "overflow_x": null,
            "grid_auto_flow": null,
            "grid_area": null,
            "grid_template_columns": null,
            "flex": null,
            "_model_name": "LayoutModel",
            "justify_items": null,
            "grid_row": null,
            "max_height": null,
            "align_content": null,
            "visibility": null,
            "align_self": null,
            "height": null,
            "min_height": null,
            "padding": null,
            "grid_auto_rows": null,
            "grid_gap": null,
            "max_width": null,
            "order": null,
            "_view_module_version": "1.2.0",
            "grid_template_areas": null,
            "object_position": null,
            "object_fit": null,
            "grid_auto_columns": null,
            "margin": null,
            "display": null,
            "left": null
          }
        },
        "f73353b0e2f748409889e798f78c5021": {
          "model_module": "@jupyter-widgets/controls",
          "model_name": "HBoxModel",
          "state": {
            "_view_name": "HBoxView",
            "_dom_classes": [],
            "_model_name": "HBoxModel",
            "_view_module": "@jupyter-widgets/controls",
            "_model_module_version": "1.5.0",
            "_view_count": null,
            "_view_module_version": "1.5.0",
            "box_style": "",
            "layout": "IPY_MODEL_54db50f32c9449d1b1681270b27a350e",
            "_model_module": "@jupyter-widgets/controls",
            "children": [
              "IPY_MODEL_502f74ad5ec4494d8e4a4b78c36ae0fd",
              "IPY_MODEL_6cb2c317ae194b92ba3eeae2b2834028"
            ]
          }
        },
        "54db50f32c9449d1b1681270b27a350e": {
          "model_module": "@jupyter-widgets/base",
          "model_name": "LayoutModel",
          "state": {
            "_view_name": "LayoutView",
            "grid_template_rows": null,
            "right": null,
            "justify_content": null,
            "_view_module": "@jupyter-widgets/base",
            "overflow": null,
            "_model_module_version": "1.2.0",
            "_view_count": null,
            "flex_flow": null,
            "width": null,
            "min_width": null,
            "border": null,
            "align_items": null,
            "bottom": null,
            "_model_module": "@jupyter-widgets/base",
            "top": null,
            "grid_column": null,
            "overflow_y": null,
            "overflow_x": null,
            "grid_auto_flow": null,
            "grid_area": null,
            "grid_template_columns": null,
            "flex": null,
            "_model_name": "LayoutModel",
            "justify_items": null,
            "grid_row": null,
            "max_height": null,
            "align_content": null,
            "visibility": null,
            "align_self": null,
            "height": null,
            "min_height": null,
            "padding": null,
            "grid_auto_rows": null,
            "grid_gap": null,
            "max_width": null,
            "order": null,
            "_view_module_version": "1.2.0",
            "grid_template_areas": null,
            "object_position": null,
            "object_fit": null,
            "grid_auto_columns": null,
            "margin": null,
            "display": null,
            "left": null
          }
        },
        "502f74ad5ec4494d8e4a4b78c36ae0fd": {
          "model_module": "@jupyter-widgets/controls",
          "model_name": "FloatProgressModel",
          "state": {
            "_view_name": "ProgressView",
            "style": "IPY_MODEL_a0af626b789b447fab677eaecd146f3c",
            "_dom_classes": [],
            "description": "",
            "_model_name": "FloatProgressModel",
            "bar_style": "success",
            "max": 1,
            "_view_module": "@jupyter-widgets/controls",
            "_model_module_version": "1.5.0",
            "value": 1,
            "_view_count": null,
            "_view_module_version": "1.5.0",
            "orientation": "horizontal",
            "min": 0,
            "description_tooltip": null,
            "_model_module": "@jupyter-widgets/controls",
            "layout": "IPY_MODEL_6eed412860bb4214a8f8aa0e0be35f5b"
          }
        },
        "6cb2c317ae194b92ba3eeae2b2834028": {
          "model_module": "@jupyter-widgets/controls",
          "model_name": "HTMLModel",
          "state": {
            "_view_name": "HTMLView",
            "style": "IPY_MODEL_7a7bef1ec1fa4c26b16831cfc1b66ea2",
            "_dom_classes": [],
            "description": "",
            "_model_name": "HTMLModel",
            "placeholder": "​",
            "_view_module": "@jupyter-widgets/controls",
            "_model_module_version": "1.5.0",
            "value": " 10/? [00:46&lt;00:00,  4.65s/it]",
            "_view_count": null,
            "_view_module_version": "1.5.0",
            "description_tooltip": null,
            "_model_module": "@jupyter-widgets/controls",
            "layout": "IPY_MODEL_ab5760c6f0304c25a8cc06b6b070459a"
          }
        },
        "a0af626b789b447fab677eaecd146f3c": {
          "model_module": "@jupyter-widgets/controls",
          "model_name": "ProgressStyleModel",
          "state": {
            "_view_name": "StyleView",
            "_model_name": "ProgressStyleModel",
            "description_width": "initial",
            "_view_module": "@jupyter-widgets/base",
            "_model_module_version": "1.5.0",
            "_view_count": null,
            "_view_module_version": "1.2.0",
            "bar_color": null,
            "_model_module": "@jupyter-widgets/controls"
          }
        },
        "6eed412860bb4214a8f8aa0e0be35f5b": {
          "model_module": "@jupyter-widgets/base",
          "model_name": "LayoutModel",
          "state": {
            "_view_name": "LayoutView",
            "grid_template_rows": null,
            "right": null,
            "justify_content": null,
            "_view_module": "@jupyter-widgets/base",
            "overflow": null,
            "_model_module_version": "1.2.0",
            "_view_count": null,
            "flex_flow": null,
            "width": null,
            "min_width": null,
            "border": null,
            "align_items": null,
            "bottom": null,
            "_model_module": "@jupyter-widgets/base",
            "top": null,
            "grid_column": null,
            "overflow_y": null,
            "overflow_x": null,
            "grid_auto_flow": null,
            "grid_area": null,
            "grid_template_columns": null,
            "flex": null,
            "_model_name": "LayoutModel",
            "justify_items": null,
            "grid_row": null,
            "max_height": null,
            "align_content": null,
            "visibility": null,
            "align_self": null,
            "height": null,
            "min_height": null,
            "padding": null,
            "grid_auto_rows": null,
            "grid_gap": null,
            "max_width": null,
            "order": null,
            "_view_module_version": "1.2.0",
            "grid_template_areas": null,
            "object_position": null,
            "object_fit": null,
            "grid_auto_columns": null,
            "margin": null,
            "display": null,
            "left": null
          }
        },
        "7a7bef1ec1fa4c26b16831cfc1b66ea2": {
          "model_module": "@jupyter-widgets/controls",
          "model_name": "DescriptionStyleModel",
          "state": {
            "_view_name": "StyleView",
            "_model_name": "DescriptionStyleModel",
            "description_width": "",
            "_view_module": "@jupyter-widgets/base",
            "_model_module_version": "1.5.0",
            "_view_count": null,
            "_view_module_version": "1.2.0",
            "_model_module": "@jupyter-widgets/controls"
          }
        },
        "ab5760c6f0304c25a8cc06b6b070459a": {
          "model_module": "@jupyter-widgets/base",
          "model_name": "LayoutModel",
          "state": {
            "_view_name": "LayoutView",
            "grid_template_rows": null,
            "right": null,
            "justify_content": null,
            "_view_module": "@jupyter-widgets/base",
            "overflow": null,
            "_model_module_version": "1.2.0",
            "_view_count": null,
            "flex_flow": null,
            "width": null,
            "min_width": null,
            "border": null,
            "align_items": null,
            "bottom": null,
            "_model_module": "@jupyter-widgets/base",
            "top": null,
            "grid_column": null,
            "overflow_y": null,
            "overflow_x": null,
            "grid_auto_flow": null,
            "grid_area": null,
            "grid_template_columns": null,
            "flex": null,
            "_model_name": "LayoutModel",
            "justify_items": null,
            "grid_row": null,
            "max_height": null,
            "align_content": null,
            "visibility": null,
            "align_self": null,
            "height": null,
            "min_height": null,
            "padding": null,
            "grid_auto_rows": null,
            "grid_gap": null,
            "max_width": null,
            "order": null,
            "_view_module_version": "1.2.0",
            "grid_template_areas": null,
            "object_position": null,
            "object_fit": null,
            "grid_auto_columns": null,
            "margin": null,
            "display": null,
            "left": null
          }
        },
        "3a6c2f95391d45cea5b17eaef5d0620a": {
          "model_module": "@jupyter-widgets/controls",
          "model_name": "HBoxModel",
          "state": {
            "_view_name": "HBoxView",
            "_dom_classes": [],
            "_model_name": "HBoxModel",
            "_view_module": "@jupyter-widgets/controls",
            "_model_module_version": "1.5.0",
            "_view_count": null,
            "_view_module_version": "1.5.0",
            "box_style": "",
            "layout": "IPY_MODEL_753e541a3a9c43778a6cda4b91a0d442",
            "_model_module": "@jupyter-widgets/controls",
            "children": [
              "IPY_MODEL_cc7d2ca0f0194b91831ccc32f9cb2ba8",
              "IPY_MODEL_b50551fe7e8a46f6bde8ccf9cd5cc474"
            ]
          }
        },
        "753e541a3a9c43778a6cda4b91a0d442": {
          "model_module": "@jupyter-widgets/base",
          "model_name": "LayoutModel",
          "state": {
            "_view_name": "LayoutView",
            "grid_template_rows": null,
            "right": null,
            "justify_content": null,
            "_view_module": "@jupyter-widgets/base",
            "overflow": null,
            "_model_module_version": "1.2.0",
            "_view_count": null,
            "flex_flow": null,
            "width": null,
            "min_width": null,
            "border": null,
            "align_items": null,
            "bottom": null,
            "_model_module": "@jupyter-widgets/base",
            "top": null,
            "grid_column": null,
            "overflow_y": null,
            "overflow_x": null,
            "grid_auto_flow": null,
            "grid_area": null,
            "grid_template_columns": null,
            "flex": null,
            "_model_name": "LayoutModel",
            "justify_items": null,
            "grid_row": null,
            "max_height": null,
            "align_content": null,
            "visibility": null,
            "align_self": null,
            "height": null,
            "min_height": null,
            "padding": null,
            "grid_auto_rows": null,
            "grid_gap": null,
            "max_width": null,
            "order": null,
            "_view_module_version": "1.2.0",
            "grid_template_areas": null,
            "object_position": null,
            "object_fit": null,
            "grid_auto_columns": null,
            "margin": null,
            "display": null,
            "left": null
          }
        },
        "cc7d2ca0f0194b91831ccc32f9cb2ba8": {
          "model_module": "@jupyter-widgets/controls",
          "model_name": "FloatProgressModel",
          "state": {
            "_view_name": "ProgressView",
            "style": "IPY_MODEL_ae88107cd32b45adacf6329c1d5358b7",
            "_dom_classes": [],
            "description": "",
            "_model_name": "FloatProgressModel",
            "bar_style": "success",
            "max": 1,
            "_view_module": "@jupyter-widgets/controls",
            "_model_module_version": "1.5.0",
            "value": 1,
            "_view_count": null,
            "_view_module_version": "1.5.0",
            "orientation": "horizontal",
            "min": 0,
            "description_tooltip": null,
            "_model_module": "@jupyter-widgets/controls",
            "layout": "IPY_MODEL_5b6e5346bdef4c27be4448475eda4116"
          }
        },
        "b50551fe7e8a46f6bde8ccf9cd5cc474": {
          "model_module": "@jupyter-widgets/controls",
          "model_name": "HTMLModel",
          "state": {
            "_view_name": "HTMLView",
            "style": "IPY_MODEL_6d028d2deb2342e69b2dd49bd27749bd",
            "_dom_classes": [],
            "description": "",
            "_model_name": "HTMLModel",
            "placeholder": "​",
            "_view_module": "@jupyter-widgets/controls",
            "_model_module_version": "1.5.0",
            "value": " 10/? [00:08&lt;00:00,  1.19it/s]",
            "_view_count": null,
            "_view_module_version": "1.5.0",
            "description_tooltip": null,
            "_model_module": "@jupyter-widgets/controls",
            "layout": "IPY_MODEL_e4af3468885e4ab1aeda832405ffa942"
          }
        },
        "ae88107cd32b45adacf6329c1d5358b7": {
          "model_module": "@jupyter-widgets/controls",
          "model_name": "ProgressStyleModel",
          "state": {
            "_view_name": "StyleView",
            "_model_name": "ProgressStyleModel",
            "description_width": "initial",
            "_view_module": "@jupyter-widgets/base",
            "_model_module_version": "1.5.0",
            "_view_count": null,
            "_view_module_version": "1.2.0",
            "bar_color": null,
            "_model_module": "@jupyter-widgets/controls"
          }
        },
        "5b6e5346bdef4c27be4448475eda4116": {
          "model_module": "@jupyter-widgets/base",
          "model_name": "LayoutModel",
          "state": {
            "_view_name": "LayoutView",
            "grid_template_rows": null,
            "right": null,
            "justify_content": null,
            "_view_module": "@jupyter-widgets/base",
            "overflow": null,
            "_model_module_version": "1.2.0",
            "_view_count": null,
            "flex_flow": null,
            "width": null,
            "min_width": null,
            "border": null,
            "align_items": null,
            "bottom": null,
            "_model_module": "@jupyter-widgets/base",
            "top": null,
            "grid_column": null,
            "overflow_y": null,
            "overflow_x": null,
            "grid_auto_flow": null,
            "grid_area": null,
            "grid_template_columns": null,
            "flex": null,
            "_model_name": "LayoutModel",
            "justify_items": null,
            "grid_row": null,
            "max_height": null,
            "align_content": null,
            "visibility": null,
            "align_self": null,
            "height": null,
            "min_height": null,
            "padding": null,
            "grid_auto_rows": null,
            "grid_gap": null,
            "max_width": null,
            "order": null,
            "_view_module_version": "1.2.0",
            "grid_template_areas": null,
            "object_position": null,
            "object_fit": null,
            "grid_auto_columns": null,
            "margin": null,
            "display": null,
            "left": null
          }
        },
        "6d028d2deb2342e69b2dd49bd27749bd": {
          "model_module": "@jupyter-widgets/controls",
          "model_name": "DescriptionStyleModel",
          "state": {
            "_view_name": "StyleView",
            "_model_name": "DescriptionStyleModel",
            "description_width": "",
            "_view_module": "@jupyter-widgets/base",
            "_model_module_version": "1.5.0",
            "_view_count": null,
            "_view_module_version": "1.2.0",
            "_model_module": "@jupyter-widgets/controls"
          }
        },
        "e4af3468885e4ab1aeda832405ffa942": {
          "model_module": "@jupyter-widgets/base",
          "model_name": "LayoutModel",
          "state": {
            "_view_name": "LayoutView",
            "grid_template_rows": null,
            "right": null,
            "justify_content": null,
            "_view_module": "@jupyter-widgets/base",
            "overflow": null,
            "_model_module_version": "1.2.0",
            "_view_count": null,
            "flex_flow": null,
            "width": null,
            "min_width": null,
            "border": null,
            "align_items": null,
            "bottom": null,
            "_model_module": "@jupyter-widgets/base",
            "top": null,
            "grid_column": null,
            "overflow_y": null,
            "overflow_x": null,
            "grid_auto_flow": null,
            "grid_area": null,
            "grid_template_columns": null,
            "flex": null,
            "_model_name": "LayoutModel",
            "justify_items": null,
            "grid_row": null,
            "max_height": null,
            "align_content": null,
            "visibility": null,
            "align_self": null,
            "height": null,
            "min_height": null,
            "padding": null,
            "grid_auto_rows": null,
            "grid_gap": null,
            "max_width": null,
            "order": null,
            "_view_module_version": "1.2.0",
            "grid_template_areas": null,
            "object_position": null,
            "object_fit": null,
            "grid_auto_columns": null,
            "margin": null,
            "display": null,
            "left": null
          }
        },
        "62d0abf997e043bdb8cf4191de1eb856": {
          "model_module": "@jupyter-widgets/controls",
          "model_name": "HBoxModel",
          "state": {
            "_view_name": "HBoxView",
            "_dom_classes": [],
            "_model_name": "HBoxModel",
            "_view_module": "@jupyter-widgets/controls",
            "_model_module_version": "1.5.0",
            "_view_count": null,
            "_view_module_version": "1.5.0",
            "box_style": "",
            "layout": "IPY_MODEL_6c58c23a411841fdb1fd37c201ca1259",
            "_model_module": "@jupyter-widgets/controls",
            "children": [
              "IPY_MODEL_41989c9df0164087a47e42d731bf3232",
              "IPY_MODEL_d7e0bbed0efb452b80461ed03c425220"
            ]
          }
        },
        "6c58c23a411841fdb1fd37c201ca1259": {
          "model_module": "@jupyter-widgets/base",
          "model_name": "LayoutModel",
          "state": {
            "_view_name": "LayoutView",
            "grid_template_rows": null,
            "right": null,
            "justify_content": null,
            "_view_module": "@jupyter-widgets/base",
            "overflow": null,
            "_model_module_version": "1.2.0",
            "_view_count": null,
            "flex_flow": null,
            "width": null,
            "min_width": null,
            "border": null,
            "align_items": null,
            "bottom": null,
            "_model_module": "@jupyter-widgets/base",
            "top": null,
            "grid_column": null,
            "overflow_y": null,
            "overflow_x": null,
            "grid_auto_flow": null,
            "grid_area": null,
            "grid_template_columns": null,
            "flex": null,
            "_model_name": "LayoutModel",
            "justify_items": null,
            "grid_row": null,
            "max_height": null,
            "align_content": null,
            "visibility": null,
            "align_self": null,
            "height": null,
            "min_height": null,
            "padding": null,
            "grid_auto_rows": null,
            "grid_gap": null,
            "max_width": null,
            "order": null,
            "_view_module_version": "1.2.0",
            "grid_template_areas": null,
            "object_position": null,
            "object_fit": null,
            "grid_auto_columns": null,
            "margin": null,
            "display": null,
            "left": null
          }
        },
        "41989c9df0164087a47e42d731bf3232": {
          "model_module": "@jupyter-widgets/controls",
          "model_name": "FloatProgressModel",
          "state": {
            "_view_name": "ProgressView",
            "style": "IPY_MODEL_525fa4657cbd4b30a80a96cdadab1b01",
            "_dom_classes": [],
            "description": "",
            "_model_name": "FloatProgressModel",
            "bar_style": "success",
            "max": 1,
            "_view_module": "@jupyter-widgets/controls",
            "_model_module_version": "1.5.0",
            "value": 1,
            "_view_count": null,
            "_view_module_version": "1.5.0",
            "orientation": "horizontal",
            "min": 0,
            "description_tooltip": null,
            "_model_module": "@jupyter-widgets/controls",
            "layout": "IPY_MODEL_9eb662991ee945859409d95677bbc48f"
          }
        },
        "d7e0bbed0efb452b80461ed03c425220": {
          "model_module": "@jupyter-widgets/controls",
          "model_name": "HTMLModel",
          "state": {
            "_view_name": "HTMLView",
            "style": "IPY_MODEL_e94e6fadb5b745cbabf547370ba5c087",
            "_dom_classes": [],
            "description": "",
            "_model_name": "HTMLModel",
            "placeholder": "​",
            "_view_module": "@jupyter-widgets/controls",
            "_model_module_version": "1.5.0",
            "value": " 20/? [00:31&lt;00:00,  1.59s/it]",
            "_view_count": null,
            "_view_module_version": "1.5.0",
            "description_tooltip": null,
            "_model_module": "@jupyter-widgets/controls",
            "layout": "IPY_MODEL_8df30b9480b8442db46eeb3f54a91c39"
          }
        },
        "525fa4657cbd4b30a80a96cdadab1b01": {
          "model_module": "@jupyter-widgets/controls",
          "model_name": "ProgressStyleModel",
          "state": {
            "_view_name": "StyleView",
            "_model_name": "ProgressStyleModel",
            "description_width": "initial",
            "_view_module": "@jupyter-widgets/base",
            "_model_module_version": "1.5.0",
            "_view_count": null,
            "_view_module_version": "1.2.0",
            "bar_color": null,
            "_model_module": "@jupyter-widgets/controls"
          }
        },
        "9eb662991ee945859409d95677bbc48f": {
          "model_module": "@jupyter-widgets/base",
          "model_name": "LayoutModel",
          "state": {
            "_view_name": "LayoutView",
            "grid_template_rows": null,
            "right": null,
            "justify_content": null,
            "_view_module": "@jupyter-widgets/base",
            "overflow": null,
            "_model_module_version": "1.2.0",
            "_view_count": null,
            "flex_flow": null,
            "width": null,
            "min_width": null,
            "border": null,
            "align_items": null,
            "bottom": null,
            "_model_module": "@jupyter-widgets/base",
            "top": null,
            "grid_column": null,
            "overflow_y": null,
            "overflow_x": null,
            "grid_auto_flow": null,
            "grid_area": null,
            "grid_template_columns": null,
            "flex": null,
            "_model_name": "LayoutModel",
            "justify_items": null,
            "grid_row": null,
            "max_height": null,
            "align_content": null,
            "visibility": null,
            "align_self": null,
            "height": null,
            "min_height": null,
            "padding": null,
            "grid_auto_rows": null,
            "grid_gap": null,
            "max_width": null,
            "order": null,
            "_view_module_version": "1.2.0",
            "grid_template_areas": null,
            "object_position": null,
            "object_fit": null,
            "grid_auto_columns": null,
            "margin": null,
            "display": null,
            "left": null
          }
        },
        "e94e6fadb5b745cbabf547370ba5c087": {
          "model_module": "@jupyter-widgets/controls",
          "model_name": "DescriptionStyleModel",
          "state": {
            "_view_name": "StyleView",
            "_model_name": "DescriptionStyleModel",
            "description_width": "",
            "_view_module": "@jupyter-widgets/base",
            "_model_module_version": "1.5.0",
            "_view_count": null,
            "_view_module_version": "1.2.0",
            "_model_module": "@jupyter-widgets/controls"
          }
        },
        "8df30b9480b8442db46eeb3f54a91c39": {
          "model_module": "@jupyter-widgets/base",
          "model_name": "LayoutModel",
          "state": {
            "_view_name": "LayoutView",
            "grid_template_rows": null,
            "right": null,
            "justify_content": null,
            "_view_module": "@jupyter-widgets/base",
            "overflow": null,
            "_model_module_version": "1.2.0",
            "_view_count": null,
            "flex_flow": null,
            "width": null,
            "min_width": null,
            "border": null,
            "align_items": null,
            "bottom": null,
            "_model_module": "@jupyter-widgets/base",
            "top": null,
            "grid_column": null,
            "overflow_y": null,
            "overflow_x": null,
            "grid_auto_flow": null,
            "grid_area": null,
            "grid_template_columns": null,
            "flex": null,
            "_model_name": "LayoutModel",
            "justify_items": null,
            "grid_row": null,
            "max_height": null,
            "align_content": null,
            "visibility": null,
            "align_self": null,
            "height": null,
            "min_height": null,
            "padding": null,
            "grid_auto_rows": null,
            "grid_gap": null,
            "max_width": null,
            "order": null,
            "_view_module_version": "1.2.0",
            "grid_template_areas": null,
            "object_position": null,
            "object_fit": null,
            "grid_auto_columns": null,
            "margin": null,
            "display": null,
            "left": null
          }
        },
        "743c7c64bd8a48c4b0c560e1c463691d": {
          "model_module": "@jupyter-widgets/controls",
          "model_name": "HBoxModel",
          "state": {
            "_view_name": "HBoxView",
            "_dom_classes": [],
            "_model_name": "HBoxModel",
            "_view_module": "@jupyter-widgets/controls",
            "_model_module_version": "1.5.0",
            "_view_count": null,
            "_view_module_version": "1.5.0",
            "box_style": "",
            "layout": "IPY_MODEL_de0755e1d6de41e0897eeded32d6ebb5",
            "_model_module": "@jupyter-widgets/controls",
            "children": [
              "IPY_MODEL_99a82cc302494063b7f3c890a40d6c46",
              "IPY_MODEL_14d577da82ac455884ba249c1458c4b0"
            ]
          }
        },
        "de0755e1d6de41e0897eeded32d6ebb5": {
          "model_module": "@jupyter-widgets/base",
          "model_name": "LayoutModel",
          "state": {
            "_view_name": "LayoutView",
            "grid_template_rows": null,
            "right": null,
            "justify_content": null,
            "_view_module": "@jupyter-widgets/base",
            "overflow": null,
            "_model_module_version": "1.2.0",
            "_view_count": null,
            "flex_flow": null,
            "width": null,
            "min_width": null,
            "border": null,
            "align_items": null,
            "bottom": null,
            "_model_module": "@jupyter-widgets/base",
            "top": null,
            "grid_column": null,
            "overflow_y": null,
            "overflow_x": null,
            "grid_auto_flow": null,
            "grid_area": null,
            "grid_template_columns": null,
            "flex": null,
            "_model_name": "LayoutModel",
            "justify_items": null,
            "grid_row": null,
            "max_height": null,
            "align_content": null,
            "visibility": null,
            "align_self": null,
            "height": null,
            "min_height": null,
            "padding": null,
            "grid_auto_rows": null,
            "grid_gap": null,
            "max_width": null,
            "order": null,
            "_view_module_version": "1.2.0",
            "grid_template_areas": null,
            "object_position": null,
            "object_fit": null,
            "grid_auto_columns": null,
            "margin": null,
            "display": null,
            "left": null
          }
        },
        "99a82cc302494063b7f3c890a40d6c46": {
          "model_module": "@jupyter-widgets/controls",
          "model_name": "FloatProgressModel",
          "state": {
            "_view_name": "ProgressView",
            "style": "IPY_MODEL_c133d3dcec1f4d4c89d27622ecc6e5da",
            "_dom_classes": [],
            "description": "",
            "_model_name": "FloatProgressModel",
            "bar_style": "success",
            "max": 1,
            "_view_module": "@jupyter-widgets/controls",
            "_model_module_version": "1.5.0",
            "value": 1,
            "_view_count": null,
            "_view_module_version": "1.5.0",
            "orientation": "horizontal",
            "min": 0,
            "description_tooltip": null,
            "_model_module": "@jupyter-widgets/controls",
            "layout": "IPY_MODEL_85180f7a4fee4c69885af6e36f04cbe8"
          }
        },
        "14d577da82ac455884ba249c1458c4b0": {
          "model_module": "@jupyter-widgets/controls",
          "model_name": "HTMLModel",
          "state": {
            "_view_name": "HTMLView",
            "style": "IPY_MODEL_34c3c83cfe954f0ab5828c08d7272141",
            "_dom_classes": [],
            "description": "",
            "_model_name": "HTMLModel",
            "placeholder": "​",
            "_view_module": "@jupyter-widgets/controls",
            "_model_module_version": "1.5.0",
            "value": " 40/? [00:25&lt;00:00,  1.55it/s]",
            "_view_count": null,
            "_view_module_version": "1.5.0",
            "description_tooltip": null,
            "_model_module": "@jupyter-widgets/controls",
            "layout": "IPY_MODEL_a47e7eee9664460093fb24ab056044b0"
          }
        },
        "c133d3dcec1f4d4c89d27622ecc6e5da": {
          "model_module": "@jupyter-widgets/controls",
          "model_name": "ProgressStyleModel",
          "state": {
            "_view_name": "StyleView",
            "_model_name": "ProgressStyleModel",
            "description_width": "initial",
            "_view_module": "@jupyter-widgets/base",
            "_model_module_version": "1.5.0",
            "_view_count": null,
            "_view_module_version": "1.2.0",
            "bar_color": null,
            "_model_module": "@jupyter-widgets/controls"
          }
        },
        "85180f7a4fee4c69885af6e36f04cbe8": {
          "model_module": "@jupyter-widgets/base",
          "model_name": "LayoutModel",
          "state": {
            "_view_name": "LayoutView",
            "grid_template_rows": null,
            "right": null,
            "justify_content": null,
            "_view_module": "@jupyter-widgets/base",
            "overflow": null,
            "_model_module_version": "1.2.0",
            "_view_count": null,
            "flex_flow": null,
            "width": null,
            "min_width": null,
            "border": null,
            "align_items": null,
            "bottom": null,
            "_model_module": "@jupyter-widgets/base",
            "top": null,
            "grid_column": null,
            "overflow_y": null,
            "overflow_x": null,
            "grid_auto_flow": null,
            "grid_area": null,
            "grid_template_columns": null,
            "flex": null,
            "_model_name": "LayoutModel",
            "justify_items": null,
            "grid_row": null,
            "max_height": null,
            "align_content": null,
            "visibility": null,
            "align_self": null,
            "height": null,
            "min_height": null,
            "padding": null,
            "grid_auto_rows": null,
            "grid_gap": null,
            "max_width": null,
            "order": null,
            "_view_module_version": "1.2.0",
            "grid_template_areas": null,
            "object_position": null,
            "object_fit": null,
            "grid_auto_columns": null,
            "margin": null,
            "display": null,
            "left": null
          }
        },
        "34c3c83cfe954f0ab5828c08d7272141": {
          "model_module": "@jupyter-widgets/controls",
          "model_name": "DescriptionStyleModel",
          "state": {
            "_view_name": "StyleView",
            "_model_name": "DescriptionStyleModel",
            "description_width": "",
            "_view_module": "@jupyter-widgets/base",
            "_model_module_version": "1.5.0",
            "_view_count": null,
            "_view_module_version": "1.2.0",
            "_model_module": "@jupyter-widgets/controls"
          }
        },
        "a47e7eee9664460093fb24ab056044b0": {
          "model_module": "@jupyter-widgets/base",
          "model_name": "LayoutModel",
          "state": {
            "_view_name": "LayoutView",
            "grid_template_rows": null,
            "right": null,
            "justify_content": null,
            "_view_module": "@jupyter-widgets/base",
            "overflow": null,
            "_model_module_version": "1.2.0",
            "_view_count": null,
            "flex_flow": null,
            "width": null,
            "min_width": null,
            "border": null,
            "align_items": null,
            "bottom": null,
            "_model_module": "@jupyter-widgets/base",
            "top": null,
            "grid_column": null,
            "overflow_y": null,
            "overflow_x": null,
            "grid_auto_flow": null,
            "grid_area": null,
            "grid_template_columns": null,
            "flex": null,
            "_model_name": "LayoutModel",
            "justify_items": null,
            "grid_row": null,
            "max_height": null,
            "align_content": null,
            "visibility": null,
            "align_self": null,
            "height": null,
            "min_height": null,
            "padding": null,
            "grid_auto_rows": null,
            "grid_gap": null,
            "max_width": null,
            "order": null,
            "_view_module_version": "1.2.0",
            "grid_template_areas": null,
            "object_position": null,
            "object_fit": null,
            "grid_auto_columns": null,
            "margin": null,
            "display": null,
            "left": null
          }
        },
        "fecf961357ba42bab399b23fe5955e79": {
          "model_module": "@jupyter-widgets/controls",
          "model_name": "HBoxModel",
          "state": {
            "_view_name": "HBoxView",
            "_dom_classes": [],
            "_model_name": "HBoxModel",
            "_view_module": "@jupyter-widgets/controls",
            "_model_module_version": "1.5.0",
            "_view_count": null,
            "_view_module_version": "1.5.0",
            "box_style": "",
            "layout": "IPY_MODEL_d9da65f7d8474a1b861403399e0bd513",
            "_model_module": "@jupyter-widgets/controls",
            "children": [
              "IPY_MODEL_c6e2cc85cb1d4356ba29240352c9ce26",
              "IPY_MODEL_5a353b47c4e14cfa9f1d66281387b58a"
            ]
          }
        },
        "d9da65f7d8474a1b861403399e0bd513": {
          "model_module": "@jupyter-widgets/base",
          "model_name": "LayoutModel",
          "state": {
            "_view_name": "LayoutView",
            "grid_template_rows": null,
            "right": null,
            "justify_content": null,
            "_view_module": "@jupyter-widgets/base",
            "overflow": null,
            "_model_module_version": "1.2.0",
            "_view_count": null,
            "flex_flow": null,
            "width": null,
            "min_width": null,
            "border": null,
            "align_items": null,
            "bottom": null,
            "_model_module": "@jupyter-widgets/base",
            "top": null,
            "grid_column": null,
            "overflow_y": null,
            "overflow_x": null,
            "grid_auto_flow": null,
            "grid_area": null,
            "grid_template_columns": null,
            "flex": null,
            "_model_name": "LayoutModel",
            "justify_items": null,
            "grid_row": null,
            "max_height": null,
            "align_content": null,
            "visibility": null,
            "align_self": null,
            "height": null,
            "min_height": null,
            "padding": null,
            "grid_auto_rows": null,
            "grid_gap": null,
            "max_width": null,
            "order": null,
            "_view_module_version": "1.2.0",
            "grid_template_areas": null,
            "object_position": null,
            "object_fit": null,
            "grid_auto_columns": null,
            "margin": null,
            "display": null,
            "left": null
          }
        },
        "c6e2cc85cb1d4356ba29240352c9ce26": {
          "model_module": "@jupyter-widgets/controls",
          "model_name": "FloatProgressModel",
          "state": {
            "_view_name": "ProgressView",
            "style": "IPY_MODEL_30e50bef6c56435d84b7177b8d332cd2",
            "_dom_classes": [],
            "description": "",
            "_model_name": "FloatProgressModel",
            "bar_style": "success",
            "max": 1,
            "_view_module": "@jupyter-widgets/controls",
            "_model_module_version": "1.5.0",
            "value": 1,
            "_view_count": null,
            "_view_module_version": "1.5.0",
            "orientation": "horizontal",
            "min": 0,
            "description_tooltip": null,
            "_model_module": "@jupyter-widgets/controls",
            "layout": "IPY_MODEL_7cb459a4f58b4beeb109fc8793db0e53"
          }
        },
        "5a353b47c4e14cfa9f1d66281387b58a": {
          "model_module": "@jupyter-widgets/controls",
          "model_name": "HTMLModel",
          "state": {
            "_view_name": "HTMLView",
            "style": "IPY_MODEL_c5f91a03d0fc400799fe502f1c3dfe2d",
            "_dom_classes": [],
            "description": "",
            "_model_name": "HTMLModel",
            "placeholder": "​",
            "_view_module": "@jupyter-widgets/controls",
            "_model_module_version": "1.5.0",
            "value": " 10/? [00:19&lt;00:00,  1.90s/it]",
            "_view_count": null,
            "_view_module_version": "1.5.0",
            "description_tooltip": null,
            "_model_module": "@jupyter-widgets/controls",
            "layout": "IPY_MODEL_7e376947286346f885318d96fe7013f1"
          }
        },
        "30e50bef6c56435d84b7177b8d332cd2": {
          "model_module": "@jupyter-widgets/controls",
          "model_name": "ProgressStyleModel",
          "state": {
            "_view_name": "StyleView",
            "_model_name": "ProgressStyleModel",
            "description_width": "initial",
            "_view_module": "@jupyter-widgets/base",
            "_model_module_version": "1.5.0",
            "_view_count": null,
            "_view_module_version": "1.2.0",
            "bar_color": null,
            "_model_module": "@jupyter-widgets/controls"
          }
        },
        "7cb459a4f58b4beeb109fc8793db0e53": {
          "model_module": "@jupyter-widgets/base",
          "model_name": "LayoutModel",
          "state": {
            "_view_name": "LayoutView",
            "grid_template_rows": null,
            "right": null,
            "justify_content": null,
            "_view_module": "@jupyter-widgets/base",
            "overflow": null,
            "_model_module_version": "1.2.0",
            "_view_count": null,
            "flex_flow": null,
            "width": null,
            "min_width": null,
            "border": null,
            "align_items": null,
            "bottom": null,
            "_model_module": "@jupyter-widgets/base",
            "top": null,
            "grid_column": null,
            "overflow_y": null,
            "overflow_x": null,
            "grid_auto_flow": null,
            "grid_area": null,
            "grid_template_columns": null,
            "flex": null,
            "_model_name": "LayoutModel",
            "justify_items": null,
            "grid_row": null,
            "max_height": null,
            "align_content": null,
            "visibility": null,
            "align_self": null,
            "height": null,
            "min_height": null,
            "padding": null,
            "grid_auto_rows": null,
            "grid_gap": null,
            "max_width": null,
            "order": null,
            "_view_module_version": "1.2.0",
            "grid_template_areas": null,
            "object_position": null,
            "object_fit": null,
            "grid_auto_columns": null,
            "margin": null,
            "display": null,
            "left": null
          }
        },
        "c5f91a03d0fc400799fe502f1c3dfe2d": {
          "model_module": "@jupyter-widgets/controls",
          "model_name": "DescriptionStyleModel",
          "state": {
            "_view_name": "StyleView",
            "_model_name": "DescriptionStyleModel",
            "description_width": "",
            "_view_module": "@jupyter-widgets/base",
            "_model_module_version": "1.5.0",
            "_view_count": null,
            "_view_module_version": "1.2.0",
            "_model_module": "@jupyter-widgets/controls"
          }
        },
        "7e376947286346f885318d96fe7013f1": {
          "model_module": "@jupyter-widgets/base",
          "model_name": "LayoutModel",
          "state": {
            "_view_name": "LayoutView",
            "grid_template_rows": null,
            "right": null,
            "justify_content": null,
            "_view_module": "@jupyter-widgets/base",
            "overflow": null,
            "_model_module_version": "1.2.0",
            "_view_count": null,
            "flex_flow": null,
            "width": null,
            "min_width": null,
            "border": null,
            "align_items": null,
            "bottom": null,
            "_model_module": "@jupyter-widgets/base",
            "top": null,
            "grid_column": null,
            "overflow_y": null,
            "overflow_x": null,
            "grid_auto_flow": null,
            "grid_area": null,
            "grid_template_columns": null,
            "flex": null,
            "_model_name": "LayoutModel",
            "justify_items": null,
            "grid_row": null,
            "max_height": null,
            "align_content": null,
            "visibility": null,
            "align_self": null,
            "height": null,
            "min_height": null,
            "padding": null,
            "grid_auto_rows": null,
            "grid_gap": null,
            "max_width": null,
            "order": null,
            "_view_module_version": "1.2.0",
            "grid_template_areas": null,
            "object_position": null,
            "object_fit": null,
            "grid_auto_columns": null,
            "margin": null,
            "display": null,
            "left": null
          }
        }
      }
    }
  },
  "cells": [
    {
      "cell_type": "markdown",
      "metadata": {
        "id": "YNwhI6744rUa"
      },
      "source": [
        "# Τεχνητή Νοημοσύνη: Εργαστηριακή Άσκηση 2\n",
        "---\n",
        "\n",
        "Ο στόχος της εργασίας είναι η κατασκευή ενός συστήματος προτάσεων (Recommendation System) για ταινίες. Οι προτάσεις αυτές θα πηγάζουν τόσο από τα χαρακτηριστικά της ταινίας όσο και από ορισμένες αξιολογήσεις του κάθε χρήστη.\n",
        "\n",
        "Στα δεδομένα της άσκησης περιλαμβάνονται ένα αρχείο με το όνομα movies_metadata.csv το όποιο περιέχει τα χαρακτηριστικά κάθε ταινίας όπως θέμα, σκηνοθέτης ηθοποιοί, λέξεις κλειδιά κ.α. από το imdb καθώς και τα αρχεία ratings.csv τα όποια περιέχουν πραγματικές αξιολογήσεις χρηστών, χωρισμένες σε train και σε test.\n"
      ]
    },
    {
      "cell_type": "markdown",
      "metadata": {
        "id": "Py-QqRPxP1Pm"
      },
      "source": [
        "# Team Description\n",
        "\n",
        ">Αναστασάκης Ζαχαρίας:\n",
        "* email :  zaxarisanastasakis@gmail.com\n",
        "\n",
        ">Αντωνίου Κωνσταντίνος:\n",
        "* email : kostas.an2016@gmail.com"
      ]
    },
    {
      "cell_type": "markdown",
      "metadata": {
        "id": "doHQmp994rUb"
      },
      "source": [
        "---\n",
        "#Κώδικας για κατασκευή περιβάλλοντος εργασίας\n",
        "\n",
        "##Μόνο για Google Colab\n",
        "\n",
        "Κώδικας για να γίνει Mount to Google Drive"
      ]
    },
    {
      "cell_type": "code",
      "metadata": {
        "id": "4QOs_gnx4rUb",
        "colab": {
          "base_uri": "https://localhost:8080/"
        },
        "outputId": "74f70e8d-eb8e-4917-bcd9-47b228614876"
      },
      "source": [
        "from google.colab import drive\n",
        "drive.mount('/content/drive/', force_remount=True)\n"
      ],
      "execution_count": null,
      "outputs": [
        {
          "output_type": "stream",
          "text": [
            "Mounted at /content/drive/\n"
          ],
          "name": "stdout"
        }
      ]
    },
    {
      "cell_type": "code",
      "metadata": {
        "id": "xZdXjQr64rUc",
        "colab": {
          "base_uri": "https://localhost:8080/"
        },
        "outputId": "d49947bc-9d07-4d9f-9223-7d403fa7ce72"
      },
      "source": [
        "#install swi-prolog\n",
        "!sudo apt-get install software-properties-common\n",
        "!sudo apt-add-repository ppa:swi-prolog/stable\n",
        "!sudo apt-get update\n",
        "!sudo apt-get install swi-prolog\n",
        "#install pyswip\n",
        "!pip install pyswip"
      ],
      "execution_count": null,
      "outputs": [
        {
          "output_type": "stream",
          "text": [
            "Reading package lists... Done\n",
            "Building dependency tree       \n",
            "Reading state information... Done\n",
            "software-properties-common is already the newest version (0.96.24.32.14).\n",
            "0 upgraded, 0 newly installed, 0 to remove and 15 not upgraded.\n",
            " Comprehensive Prolog implementation with extensive libraries and development tools.   Primarily targetted at teaching, RDF processing and web-related tasks, such as creating web services or analysing web content.\n",
            " More info: https://launchpad.net/~swi-prolog/+archive/ubuntu/stable\n",
            "Press [ENTER] to continue or Ctrl-c to cancel adding it.\n",
            "\n",
            "Get:1 https://cloud.r-project.org/bin/linux/ubuntu bionic-cran40/ InRelease [3,626 B]\n",
            "Ign:2 https://developer.download.nvidia.com/compute/cuda/repos/ubuntu1804/x86_64  InRelease\n",
            "Get:3 https://cloud.r-project.org/bin/linux/ubuntu bionic-cran40/ Packages [41.5 kB]\n",
            "Ign:4 https://developer.download.nvidia.com/compute/machine-learning/repos/ubuntu1804/x86_64  InRelease\n",
            "Hit:5 https://developer.download.nvidia.com/compute/cuda/repos/ubuntu1804/x86_64  Release\n",
            "Hit:6 https://developer.download.nvidia.com/compute/machine-learning/repos/ubuntu1804/x86_64  Release\n",
            "Get:7 http://ppa.launchpad.net/c2d4u.team/c2d4u4.0+/ubuntu bionic InRelease [15.9 kB]\n",
            "Hit:8 http://archive.ubuntu.com/ubuntu bionic InRelease\n",
            "Get:10 http://security.ubuntu.com/ubuntu bionic-security InRelease [88.7 kB]\n",
            "Get:12 http://archive.ubuntu.com/ubuntu bionic-updates InRelease [88.7 kB]\n",
            "Hit:13 http://ppa.launchpad.net/cran/libgit2/ubuntu bionic InRelease\n",
            "Get:14 http://archive.ubuntu.com/ubuntu bionic-backports InRelease [74.6 kB]\n",
            "Hit:15 http://ppa.launchpad.net/graphics-drivers/ppa/ubuntu bionic InRelease\n",
            "Get:16 http://ppa.launchpad.net/swi-prolog/stable/ubuntu bionic InRelease [15.4 kB]\n",
            "Get:17 http://ppa.launchpad.net/c2d4u.team/c2d4u4.0+/ubuntu bionic/main Sources [1,703 kB]\n",
            "Get:18 http://ppa.launchpad.net/c2d4u.team/c2d4u4.0+/ubuntu bionic/main amd64 Packages [872 kB]\n",
            "Get:19 http://ppa.launchpad.net/swi-prolog/stable/ubuntu bionic/main amd64 Packages [1,489 B]\n",
            "Fetched 2,905 kB in 6s (469 kB/s)\n",
            "Reading package lists... Done\n",
            "Hit:1 https://cloud.r-project.org/bin/linux/ubuntu bionic-cran40/ InRelease\n",
            "Ign:2 https://developer.download.nvidia.com/compute/cuda/repos/ubuntu1804/x86_64  InRelease\n",
            "Ign:3 https://developer.download.nvidia.com/compute/machine-learning/repos/ubuntu1804/x86_64  InRelease\n",
            "Hit:4 https://developer.download.nvidia.com/compute/cuda/repos/ubuntu1804/x86_64  Release\n",
            "Hit:5 https://developer.download.nvidia.com/compute/machine-learning/repos/ubuntu1804/x86_64  Release\n",
            "Hit:6 http://ppa.launchpad.net/c2d4u.team/c2d4u4.0+/ubuntu bionic InRelease\n",
            "Hit:7 http://security.ubuntu.com/ubuntu bionic-security InRelease\n",
            "Hit:10 http://archive.ubuntu.com/ubuntu bionic InRelease\n",
            "Hit:11 http://archive.ubuntu.com/ubuntu bionic-updates InRelease\n",
            "Hit:12 http://ppa.launchpad.net/cran/libgit2/ubuntu bionic InRelease\n",
            "Hit:13 http://archive.ubuntu.com/ubuntu bionic-backports InRelease\n",
            "Hit:14 http://ppa.launchpad.net/graphics-drivers/ppa/ubuntu bionic InRelease\n",
            "Hit:15 http://ppa.launchpad.net/swi-prolog/stable/ubuntu bionic InRelease\n",
            "Reading package lists... Done\n",
            "Reading package lists... Done\n",
            "Building dependency tree       \n",
            "Reading state information... Done\n",
            "The following additional packages will be installed:\n",
            "  javascript-common libbsd-dev libedit-dev libgmp-dev libgmpxx4ldbl\n",
            "  libjs-jquery libncursesw5-dev libossp-uuid16 swi-prolog-nox swi-prolog-x\n",
            "Suggested packages:\n",
            "  apache2 | lighttpd | httpd gmp-doc libgmp10-doc libmpfr-dev ncurses-doc uuid\n",
            "  prolog-el\n",
            "The following NEW packages will be installed:\n",
            "  javascript-common libbsd-dev libedit-dev libgmp-dev libgmpxx4ldbl\n",
            "  libjs-jquery libncursesw5-dev libossp-uuid16 swi-prolog swi-prolog-nox\n",
            "  swi-prolog-x\n",
            "0 upgraded, 11 newly installed, 0 to remove and 17 not upgraded.\n",
            "Need to get 7,052 kB of archives.\n",
            "After this operation, 36.5 MB of additional disk space will be used.\n",
            "Get:1 http://ppa.launchpad.net/swi-prolog/stable/ubuntu bionic/main amd64 swi-prolog-nox amd64 8.2.3-1-ge5584f06e-bionicppa2 [3,946 kB]\n",
            "Get:2 http://archive.ubuntu.com/ubuntu bionic/main amd64 javascript-common all 11 [6,066 B]\n",
            "Get:3 http://archive.ubuntu.com/ubuntu bionic-updates/main amd64 libbsd-dev amd64 0.8.7-1ubuntu0.1 [150 kB]\n",
            "Get:4 http://archive.ubuntu.com/ubuntu bionic/main amd64 libedit-dev amd64 3.1-20170329-1 [99.1 kB]\n",
            "Get:5 http://archive.ubuntu.com/ubuntu bionic/main amd64 libgmpxx4ldbl amd64 2:6.1.2+dfsg-2 [8,964 B]\n",
            "Get:6 http://archive.ubuntu.com/ubuntu bionic/main amd64 libgmp-dev amd64 2:6.1.2+dfsg-2 [316 kB]\n",
            "Get:7 http://archive.ubuntu.com/ubuntu bionic/main amd64 libjs-jquery all 3.2.1-1 [152 kB]\n",
            "Get:8 http://archive.ubuntu.com/ubuntu bionic-updates/main amd64 libncursesw5-dev amd64 6.1-1ubuntu1.18.04 [199 kB]\n",
            "Get:9 http://archive.ubuntu.com/ubuntu bionic/universe amd64 libossp-uuid16 amd64 1.6.2-1.5build4 [29.0 kB]\n",
            "Get:10 http://ppa.launchpad.net/swi-prolog/stable/ubuntu bionic/main amd64 swi-prolog-x amd64 8.2.3-1-ge5584f06e-bionicppa2 [2,118 kB]\n",
            "Get:11 http://ppa.launchpad.net/swi-prolog/stable/ubuntu bionic/main amd64 swi-prolog amd64 8.2.3-1-ge5584f06e-bionicppa2 [27.3 kB]\n",
            "Fetched 7,052 kB in 5s (1,391 kB/s)\n",
            "debconf: unable to initialize frontend: Dialog\n",
            "debconf: (No usable dialog-like program is installed, so the dialog based frontend cannot be used. at /usr/share/perl5/Debconf/FrontEnd/Dialog.pm line 76, <> line 11.)\n",
            "debconf: falling back to frontend: Readline\n",
            "debconf: unable to initialize frontend: Readline\n",
            "debconf: (This frontend requires a controlling tty.)\n",
            "debconf: falling back to frontend: Teletype\n",
            "dpkg-preconfigure: unable to re-open stdin: \n",
            "Selecting previously unselected package javascript-common.\n",
            "(Reading database ... 145480 files and directories currently installed.)\n",
            "Preparing to unpack .../00-javascript-common_11_all.deb ...\n",
            "Unpacking javascript-common (11) ...\n",
            "Selecting previously unselected package libbsd-dev:amd64.\n",
            "Preparing to unpack .../01-libbsd-dev_0.8.7-1ubuntu0.1_amd64.deb ...\n",
            "Unpacking libbsd-dev:amd64 (0.8.7-1ubuntu0.1) ...\n",
            "Selecting previously unselected package libedit-dev:amd64.\n",
            "Preparing to unpack .../02-libedit-dev_3.1-20170329-1_amd64.deb ...\n",
            "Unpacking libedit-dev:amd64 (3.1-20170329-1) ...\n",
            "Selecting previously unselected package libgmpxx4ldbl:amd64.\n",
            "Preparing to unpack .../03-libgmpxx4ldbl_2%3a6.1.2+dfsg-2_amd64.deb ...\n",
            "Unpacking libgmpxx4ldbl:amd64 (2:6.1.2+dfsg-2) ...\n",
            "Selecting previously unselected package libgmp-dev:amd64.\n",
            "Preparing to unpack .../04-libgmp-dev_2%3a6.1.2+dfsg-2_amd64.deb ...\n",
            "Unpacking libgmp-dev:amd64 (2:6.1.2+dfsg-2) ...\n",
            "Selecting previously unselected package libjs-jquery.\n",
            "Preparing to unpack .../05-libjs-jquery_3.2.1-1_all.deb ...\n",
            "Unpacking libjs-jquery (3.2.1-1) ...\n",
            "Selecting previously unselected package libncursesw5-dev:amd64.\n",
            "Preparing to unpack .../06-libncursesw5-dev_6.1-1ubuntu1.18.04_amd64.deb ...\n",
            "Unpacking libncursesw5-dev:amd64 (6.1-1ubuntu1.18.04) ...\n",
            "Selecting previously unselected package libossp-uuid16:amd64.\n",
            "Preparing to unpack .../07-libossp-uuid16_1.6.2-1.5build4_amd64.deb ...\n",
            "Unpacking libossp-uuid16:amd64 (1.6.2-1.5build4) ...\n",
            "Selecting previously unselected package swi-prolog-nox.\n",
            "Preparing to unpack .../08-swi-prolog-nox_8.2.3-1-ge5584f06e-bionicppa2_amd64.deb ...\n",
            "Unpacking swi-prolog-nox (8.2.3-1-ge5584f06e-bionicppa2) ...\n",
            "Selecting previously unselected package swi-prolog-x.\n",
            "Preparing to unpack .../09-swi-prolog-x_8.2.3-1-ge5584f06e-bionicppa2_amd64.deb ...\n",
            "Unpacking swi-prolog-x (8.2.3-1-ge5584f06e-bionicppa2) ...\n",
            "Selecting previously unselected package swi-prolog.\n",
            "Preparing to unpack .../10-swi-prolog_8.2.3-1-ge5584f06e-bionicppa2_amd64.deb ...\n",
            "Unpacking swi-prolog (8.2.3-1-ge5584f06e-bionicppa2) ...\n",
            "Setting up libjs-jquery (3.2.1-1) ...\n",
            "Setting up libbsd-dev:amd64 (0.8.7-1ubuntu0.1) ...\n",
            "Setting up libossp-uuid16:amd64 (1.6.2-1.5build4) ...\n",
            "Setting up libncursesw5-dev:amd64 (6.1-1ubuntu1.18.04) ...\n",
            "Setting up libedit-dev:amd64 (3.1-20170329-1) ...\n",
            "Setting up javascript-common (11) ...\n",
            "Setting up libgmpxx4ldbl:amd64 (2:6.1.2+dfsg-2) ...\n",
            "Setting up libgmp-dev:amd64 (2:6.1.2+dfsg-2) ...\n",
            "Setting up swi-prolog-nox (8.2.3-1-ge5584f06e-bionicppa2) ...\n",
            "update-alternatives: using /usr/bin/swipl to provide /usr/bin/prolog (prolog) in auto mode\n",
            "Setting up swi-prolog-x (8.2.3-1-ge5584f06e-bionicppa2) ...\n",
            "Setting up swi-prolog (8.2.3-1-ge5584f06e-bionicppa2) ...\n",
            "Processing triggers for libc-bin (2.27-3ubuntu1.2) ...\n",
            "/sbin/ldconfig.real: /usr/local/lib/python3.6/dist-packages/ideep4py/lib/libmkldnn.so.0 is not a symbolic link\n",
            "\n",
            "Processing triggers for man-db (2.8.3-2ubuntu0.1) ...\n",
            "Collecting pyswip\n",
            "  Downloading https://files.pythonhosted.org/packages/dd/b8/9b79319127d48e41542500dea4181ee19758c2710432a397366ac85b7117/pyswip-0.2.10-py2.py3-none-any.whl\n",
            "Installing collected packages: pyswip\n",
            "Successfully installed pyswip-0.2.10\n"
          ],
          "name": "stdout"
        }
      ]
    },
    {
      "cell_type": "markdown",
      "metadata": {
        "id": "GxLahZ-i4rUc"
      },
      "source": [
        "# **Μέρος 1: Μελέτη των Metadata, Δημιουργία κόσμου και των βασικών queries.**\n"
      ]
    },
    {
      "cell_type": "code",
      "metadata": {
        "id": "gA3CRz5c4rUc"
      },
      "source": [
        "import pandas as pd\n",
        "from pyswip import Prolog"
      ],
      "execution_count": null,
      "outputs": []
    },
    {
      "cell_type": "code",
      "metadata": {
        "id": "HFFPGaTujFwz"
      },
      "source": [
        "#path = '/content/drive/MyDrive/'\n",
        "path = '/content/drive/MyDrive/hmmy/ai/lab2/'"
      ],
      "execution_count": null,
      "outputs": []
    },
    {
      "cell_type": "code",
      "metadata": {
        "id": "jnVDBIDw4rUd",
        "colab": {
          "base_uri": "https://localhost:8080/",
          "height": 684
        },
        "outputId": "cc7bcc9f-d79b-45d3-d149-9ed901ce8783"
      },
      "source": [
        "# Η βιβλιοθήκη pandas είναι χρήσιμη για την εργασία με τέτοια δεδομένα\n",
        "import pandas as pd \n",
        "# Διάβασμα του αρχείου 'movie_metadata.csv' \n",
        "data = pd.read_csv(path + \"movies_metadata.csv\") \n",
        "#Στο csv υπαρχούν κελία με nan τιμές\n",
        "#Στις θέσεις αυτές βάζουμε 'UNK' πράγμα που  κάνουμε με την παρακάτω συνάρτηση\n",
        "data.fillna(\"UNK\", inplace=True)\n",
        "# Preview the first 5 lines of the loaded data \n",
        "data.head()"
      ],
      "execution_count": null,
      "outputs": [
        {
          "output_type": "execute_result",
          "data": {
            "text/html": [
              "<div>\n",
              "<style scoped>\n",
              "    .dataframe tbody tr th:only-of-type {\n",
              "        vertical-align: middle;\n",
              "    }\n",
              "\n",
              "    .dataframe tbody tr th {\n",
              "        vertical-align: top;\n",
              "    }\n",
              "\n",
              "    .dataframe thead th {\n",
              "        text-align: right;\n",
              "    }\n",
              "</style>\n",
              "<table border=\"1\" class=\"dataframe\">\n",
              "  <thead>\n",
              "    <tr style=\"text-align: right;\">\n",
              "      <th></th>\n",
              "      <th>Unnamed: 0</th>\n",
              "      <th>budget</th>\n",
              "      <th>genres</th>\n",
              "      <th>homepage</th>\n",
              "      <th>id</th>\n",
              "      <th>plot_keywords</th>\n",
              "      <th>language</th>\n",
              "      <th>original_title</th>\n",
              "      <th>overview</th>\n",
              "      <th>popularity</th>\n",
              "      <th>production_companies</th>\n",
              "      <th>production_countries</th>\n",
              "      <th>release_date</th>\n",
              "      <th>gross</th>\n",
              "      <th>duration</th>\n",
              "      <th>spoken_languages</th>\n",
              "      <th>status</th>\n",
              "      <th>tagline</th>\n",
              "      <th>movie_title</th>\n",
              "      <th>vote_average</th>\n",
              "      <th>num_voted_users</th>\n",
              "      <th>title_year</th>\n",
              "      <th>country</th>\n",
              "      <th>director_name</th>\n",
              "      <th>actor_1_name</th>\n",
              "      <th>actor_2_name</th>\n",
              "      <th>actor_3_name</th>\n",
              "    </tr>\n",
              "  </thead>\n",
              "  <tbody>\n",
              "    <tr>\n",
              "      <th>0</th>\n",
              "      <td>0</td>\n",
              "      <td>237000000</td>\n",
              "      <td>Action|Adventure|Fantasy|Science Fiction</td>\n",
              "      <td>http://www.avatarmovie.com/</td>\n",
              "      <td>19995</td>\n",
              "      <td>culture clash|future|space war|space colony|so...</td>\n",
              "      <td>English</td>\n",
              "      <td>Avatar</td>\n",
              "      <td>In the 22nd century, a paraplegic Marine is di...</td>\n",
              "      <td>150.437577</td>\n",
              "      <td>[{'name': 'Ingenious Film Partners', 'id': 289...</td>\n",
              "      <td>[{'iso_3166_1': 'US', 'name': 'United States o...</td>\n",
              "      <td>2009-12-10</td>\n",
              "      <td>2787965087</td>\n",
              "      <td>162</td>\n",
              "      <td>[{'iso_639_1': 'en', 'name': 'English'}, {'iso...</td>\n",
              "      <td>Released</td>\n",
              "      <td>Enter the World of Pandora.</td>\n",
              "      <td>Avatar</td>\n",
              "      <td>7.2</td>\n",
              "      <td>11800</td>\n",
              "      <td>2009</td>\n",
              "      <td>United States of America</td>\n",
              "      <td>James Cameron</td>\n",
              "      <td>Zoe Saldana</td>\n",
              "      <td>Sigourney Weaver</td>\n",
              "      <td>Stephen Lang</td>\n",
              "    </tr>\n",
              "    <tr>\n",
              "      <th>1</th>\n",
              "      <td>1</td>\n",
              "      <td>300000000</td>\n",
              "      <td>Adventure|Fantasy|Action</td>\n",
              "      <td>http://disney.go.com/disneypictures/pirates/</td>\n",
              "      <td>285</td>\n",
              "      <td>ocean|drug abuse|exotic island|east india trad...</td>\n",
              "      <td>English</td>\n",
              "      <td>Pirates of the Caribbean: At World's End</td>\n",
              "      <td>Captain Barbossa, long believed to be dead, ha...</td>\n",
              "      <td>139.082615</td>\n",
              "      <td>[{'name': 'Walt Disney Pictures', 'id': 2}, {'...</td>\n",
              "      <td>[{'iso_3166_1': 'US', 'name': 'United States o...</td>\n",
              "      <td>2007-05-19</td>\n",
              "      <td>961000000</td>\n",
              "      <td>169</td>\n",
              "      <td>[{'iso_639_1': 'en', 'name': 'English'}]</td>\n",
              "      <td>Released</td>\n",
              "      <td>At the end of the world, the adventure begins.</td>\n",
              "      <td>Pirates of the Caribbean: At World's End</td>\n",
              "      <td>6.9</td>\n",
              "      <td>4500</td>\n",
              "      <td>2007</td>\n",
              "      <td>United States of America</td>\n",
              "      <td>Gore Verbinski</td>\n",
              "      <td>Orlando Bloom</td>\n",
              "      <td>Keira Knightley</td>\n",
              "      <td>Stellan Skarsgård</td>\n",
              "    </tr>\n",
              "    <tr>\n",
              "      <th>2</th>\n",
              "      <td>2</td>\n",
              "      <td>245000000</td>\n",
              "      <td>Action|Adventure|Crime</td>\n",
              "      <td>http://www.sonypictures.com/movies/spectre/</td>\n",
              "      <td>206647</td>\n",
              "      <td>spy|based on novel|secret agent|sequel|mi6|bri...</td>\n",
              "      <td>Français</td>\n",
              "      <td>Spectre</td>\n",
              "      <td>A cryptic message from Bond’s past sends him o...</td>\n",
              "      <td>107.376788</td>\n",
              "      <td>[{'name': 'Columbia Pictures', 'id': 5}, {'nam...</td>\n",
              "      <td>[{'iso_3166_1': 'GB', 'name': 'United Kingdom'...</td>\n",
              "      <td>2015-10-26</td>\n",
              "      <td>880674609</td>\n",
              "      <td>148</td>\n",
              "      <td>[{'iso_639_1': 'fr', 'name': 'Français'}, {'is...</td>\n",
              "      <td>Released</td>\n",
              "      <td>A Plan No One Escapes</td>\n",
              "      <td>Spectre</td>\n",
              "      <td>6.3</td>\n",
              "      <td>4466</td>\n",
              "      <td>2015</td>\n",
              "      <td>United Kingdom</td>\n",
              "      <td>Sam Mendes</td>\n",
              "      <td>Christoph Waltz</td>\n",
              "      <td>Léa Seydoux</td>\n",
              "      <td>Ralph Fiennes</td>\n",
              "    </tr>\n",
              "    <tr>\n",
              "      <th>3</th>\n",
              "      <td>3</td>\n",
              "      <td>250000000</td>\n",
              "      <td>Action|Crime|Drama|Thriller</td>\n",
              "      <td>http://www.thedarkknightrises.com/</td>\n",
              "      <td>49026</td>\n",
              "      <td>dc comics|crime fighter|terrorist|secret ident...</td>\n",
              "      <td>English</td>\n",
              "      <td>The Dark Knight Rises</td>\n",
              "      <td>Following the death of District Attorney Harve...</td>\n",
              "      <td>112.312950</td>\n",
              "      <td>[{'name': 'Legendary Pictures', 'id': 923}, {'...</td>\n",
              "      <td>[{'iso_3166_1': 'US', 'name': 'United States o...</td>\n",
              "      <td>2012-07-16</td>\n",
              "      <td>1084939099</td>\n",
              "      <td>165</td>\n",
              "      <td>[{'iso_639_1': 'en', 'name': 'English'}]</td>\n",
              "      <td>Released</td>\n",
              "      <td>The Legend Ends</td>\n",
              "      <td>The Dark Knight Rises</td>\n",
              "      <td>7.6</td>\n",
              "      <td>9106</td>\n",
              "      <td>2012</td>\n",
              "      <td>United States of America</td>\n",
              "      <td>Christopher Nolan</td>\n",
              "      <td>Michael Caine</td>\n",
              "      <td>Gary Oldman</td>\n",
              "      <td>Anne Hathaway</td>\n",
              "    </tr>\n",
              "    <tr>\n",
              "      <th>4</th>\n",
              "      <td>4</td>\n",
              "      <td>260000000</td>\n",
              "      <td>Action|Adventure|Science Fiction</td>\n",
              "      <td>http://movies.disney.com/john-carter</td>\n",
              "      <td>49529</td>\n",
              "      <td>based on novel|mars|medallion|space travel|pri...</td>\n",
              "      <td>English</td>\n",
              "      <td>John Carter</td>\n",
              "      <td>John Carter is a war-weary, former military ca...</td>\n",
              "      <td>43.926995</td>\n",
              "      <td>[{'name': 'Walt Disney Pictures', 'id': 2}]</td>\n",
              "      <td>[{'iso_3166_1': 'US', 'name': 'United States o...</td>\n",
              "      <td>2012-03-07</td>\n",
              "      <td>284139100</td>\n",
              "      <td>132</td>\n",
              "      <td>[{'iso_639_1': 'en', 'name': 'English'}]</td>\n",
              "      <td>Released</td>\n",
              "      <td>Lost in our world, found in another.</td>\n",
              "      <td>John Carter</td>\n",
              "      <td>6.1</td>\n",
              "      <td>2124</td>\n",
              "      <td>2012</td>\n",
              "      <td>United States of America</td>\n",
              "      <td>Andrew Stanton</td>\n",
              "      <td>Lynn Collins</td>\n",
              "      <td>Samantha Morton</td>\n",
              "      <td>Willem Dafoe</td>\n",
              "    </tr>\n",
              "  </tbody>\n",
              "</table>\n",
              "</div>"
            ],
            "text/plain": [
              "   Unnamed: 0     budget  ...      actor_2_name       actor_3_name\n",
              "0           0  237000000  ...  Sigourney Weaver       Stephen Lang\n",
              "1           1  300000000  ...   Keira Knightley  Stellan Skarsgård\n",
              "2           2  245000000  ...       Léa Seydoux      Ralph Fiennes\n",
              "3           3  250000000  ...       Gary Oldman      Anne Hathaway\n",
              "4           4  260000000  ...   Samantha Morton       Willem Dafoe\n",
              "\n",
              "[5 rows x 27 columns]"
            ]
          },
          "metadata": {
            "tags": []
          },
          "execution_count": 5
        }
      ]
    },
    {
      "cell_type": "markdown",
      "metadata": {
        "id": "Dqfby7fiOPG2"
      },
      "source": [
        "##Μέρος 1α\n",
        "\n",
        "Παρακάτω δημιουργούμε την συνάρτηση $clean\\ text$ η οποία αφαιρεί χαρακτήρες από τα δεδομένα μας, που βρίσκονται στο dataset $movies\\_metadata.csv$, όπως τα \"κενά\" κ.α. για την διευκόληνση της επεξεργασίας τους.\n",
        "\n",
        "Στην συνέχεια, ορίζουμε τον \"κόσμο\" της $Prolog$, αφού δημιουργούμε τα κατηγορήματα της και τα αποθηκεύουμε στην δοθείσα λίστα $literals$. Αμέσως μετά την δημιουργία τους, μέσω της εντολής $assertz$ εισάγουμε τα κατηγορήματα δημιουργώντας εν τέλει τον \"κόσμο\" της $Prolog$. \n"
      ]
    },
    {
      "cell_type": "code",
      "metadata": {
        "id": "sPAqSe0n4rUd"
      },
      "source": [
        "def clean_text(text):\n",
        "  text = text.replace(u'\\xa0', u'')\n",
        "  text = text.replace(u\"'\", u'')\n",
        "  text = text.replace(u'\"', u'')\n",
        "  return text"
      ],
      "execution_count": null,
      "outputs": []
    },
    {
      "cell_type": "code",
      "metadata": {
        "id": "RcOo0hyJ4rUd"
      },
      "source": [
        "#create World\n",
        "#Ορίζουμε τον κόσμο μας\n",
        "prolog = Prolog()\n",
        "\n",
        "#Για κάθε row του πίνακα φτιάχνουμε τα κατηγορήματα που θέλουμε να αποθηκέυσουμε\n",
        "#αρχικά σε μια λίστα με το όνομα literals\n",
        "literals = []\n",
        "plot_keywords = []\n",
        "moviess = []\n",
        "black_and_white = set()\n",
        "\n",
        "\n",
        "for row in data.itertuples(index=True, name='Pandas'):\n",
        "\n",
        "  movie_title = clean_text(getattr(row, 'movie_title'))\n",
        "  moviess.append(movie_title)\n",
        "  director_name = clean_text(getattr(row, 'director_name'))  ####### mporei me thn prolog na mhn ta theloyme se dicts tha doyme meta \n",
        "  actor1 = clean_text(getattr(row, 'actor_1_name'))\n",
        "  actor2 = clean_text(getattr(row, 'actor_2_name'))\n",
        "  actor3 = clean_text(getattr(row, 'actor_3_name'))\n",
        "  language = clean_text(getattr(row, 'language'))\n",
        "\n",
        "\n",
        "  if movie_title != \"UNK\":\n",
        "\n",
        "    if director_name != 'UNK':\n",
        "      literals.append(\"director('\"+ movie_title +\"','\" + director_name + \"')\")\n",
        "    if actor1 != 'UNK':\n",
        "\n",
        "      literals.append(\"actor1('\"+ movie_title +\"','\" + actor1 + \"')\") \n",
        "    if actor2 != 'UNK':\n",
        "\n",
        "      literals.append(\"actor2('\"+ movie_title +\"','\" + actor2 + \"')\")\n",
        "    if actor3 != 'UNK':\n",
        "\n",
        "      literals.append(\"actor3('\"+ movie_title +\"','\" + actor3 + \"')\") \n",
        "    if language != 'UNK':\n",
        "      literals.append(\"language('\"+ movie_title +\"','\" + language + \"')\")\n",
        "          \n",
        "    for genre in getattr(row, 'genres').split(\"|\"):\n",
        "      literals.append(\"genre('\"+ movie_title +\"','\"+ genre +\"')\")\n",
        "\n",
        "\n",
        "    for plot_key in getattr(row, 'plot_keywords').split(\"|\"):\n",
        "      literals.append(\"plot_keywords('\"+ movie_title +\"','\"+ clean_text(plot_key) +\"')\")\n",
        "      if plot_key == 'black and white':\n",
        "\n",
        "        black_and_white.add(clean_text(getattr(row,'movie_title')))\n",
        "\n",
        "\n",
        "for item in moviess:\n",
        "  if item in black_and_white:\n",
        "    literals.append(\"color('\"+ item +\"','\"+ '0' +\"')\")\n",
        "  else:\n",
        "    literals.append(\"color('\"+ item +\"','\"+ '1' +\"')\") \n",
        "    \n",
        "#Η Prolog θέλει τα κατηγορήματά της με την σειρά \n",
        "\n",
        "literals.sort()\n",
        "for literal in literals:\n",
        "  prolog.assertz(literal)\n"
      ],
      "execution_count": null,
      "outputs": []
    },
    {
      "cell_type": "markdown",
      "metadata": {
        "id": "f6qO6h17OGIC"
      },
      "source": [
        "##Μέρος 1β\n",
        "\n",
        "Σε αυτό το μέρος, δημιουργούμε τις ζητούμενες συναρτήσεις οι οποίες βρίσκουν όλες τις ταινίες που έχουν τα παρακάτω χαρακτηριστικά:\n",
        "\n",
        "1. $common\\_genre3\\ :$ 3 κοινές λέξεις και άνω σχετικά με το θέμα.  \n",
        "2. $common\\_genre2\\ :$ 2 κοινές λέξεις σχετικά με το θέμα.\n",
        "3. $common\\_genre1\\ :$ 1 κοινή λέξη σχετικά με το θέμα.\n",
        "4. $common\\_director\\ :$ κοινός σκηνοθέτης.\n",
        "5. $common\\_plot4\\ :$ 4 και άνω κοινές λέξεις-κλειδιά της πλοκής.\n",
        "6. $common\\_plot1\\ :$ 1 έως και 3 κοινές λέξεις-κλειδιά της πλοκής.\n",
        "7. $common\\_actors3\\ :$ Ίδιους τους βασικούς ηθοποιούς.\n",
        "8. $common\\_actors2\\ :$ 2 από τους 3 βασικούς ηθοποιούς κοινούς.\n",
        "9. $common\\_actors1\\ :$ 1 από τους 3 βασικούς ηθοποιούς κοινό.\n",
        "10. $common\\_language\\ :$ κοινή γλώσσα.\n",
        "11. $common\\_color\\ :$ Ασπρόμαυρη ή έγχρωμη ταινία. \n",
        "\n",
        "Οι συναρτήσεις αυτές εμπεριέχονται στο prolog αρχείο που θα κάνουμε colsult στο επόμενο βήμα."
      ]
    },
    {
      "cell_type": "markdown",
      "metadata": {
        "id": "ibe9jBk24rUd"
      },
      "source": [
        "# **2ο Μέρος: Recommendation System με βάση μόνο τα χαρακτηριστικά των ταινιών.**\n",
        "\n",
        "Στο σημείο αυτό με βάση τους κανόνες που κατασκευάστηκαν στο Μέρος 1 θα κατασκευαστούν κατηγορήματα για την ομοιότητα ταινιών. Παρακάτω δίνεται ένα μικρό παράδειγμα ενός κανόνα και πώς αυτός θα μπορούσε να γραφτεί μέσω του Pyswip. Επίσης όπως αναφέρεται και σε σχόλιο παραπάνω θα μπορεί να γραφτεί και μια βάση δεδομένων με τους κανόνες και να γίνει απευθείας consult.\n",
        "\n",
        "Στο παρακάτω παράδειγμα το 5 και το 4 εκφράζουν την ομοιότητα των ταινιών π.χ. οι ταινίες που παράγονται μέσω του find_similar_5 είναι πιο όμοιες από αυτές που παράγονται μέσω του find_similar_4. \n"
      ]
    },
    {
      "cell_type": "code",
      "metadata": {
        "colab": {
          "base_uri": "https://localhost:8080/"
        },
        "id": "1aFtHNgbomfC",
        "outputId": "30710c52-94ad-4198-fa16-6189551280d0"
      },
      "source": [
        "%cd /content/drive/MyDrive/hmmy/ai/lab2    #path for hard_recommendations.pl"
      ],
      "execution_count": null,
      "outputs": [
        {
          "output_type": "stream",
          "text": [
            "/content/drive/MyDrive/hmmy/ai/lab2\n"
          ],
          "name": "stdout"
        }
      ]
    },
    {
      "cell_type": "markdown",
      "metadata": {
        "id": "3yBKiGHv-Gtm"
      },
      "source": [
        "## Definition of similar functions\n",
        "\n",
        "Σε αυτό το μέρος κάνουμε consult το αρχείο $hard\\_recommendations.pl$ στο οποίο βρίσκονται οι συνάρτησεις που υλοποιήσαμε στο μέρος 1β καθώς και οι κανόνες ομοιότητας που φτιάξαμε για τον recommender μας. Συγκεκριμένα ορίσαμε τους εξής κανόνες:\n",
        "- $find\\_similar5$ : Για να είναι μία ταινία similar 5 με την ταινία στόχο θα πρέπει να έχει τουλάχιστον 3 genres ίδια καθώς και τουλάχιστον 4 λέξεις κλειδιά της πλοκής να υπάρχουν στην ταινία στόχο.\n",
        "\n",
        "- $find\\_similar4$ : Για να είναι μία ταινία similar 4 με την ταινία στόχο θα πρέπει να έχει τουλάχιστον 2 ηθοποιούς ίδιους ή κοινό σκηνοθέτη καθώς και 2 κοινά genres και απο μία έως τρεις λέξεις κλειδιά κοινές.\n",
        "\n",
        "- $find\\_similar3$ : Για να είναι μία ταινία similar 3 με την ταινία στόχο θα πρέπει να έχει έναν ηθοποιό κοινό, ένα genre κοινό καθώς και απο μία έως τρεις λέξεις κλειδιά κοινές.\n",
        "\n",
        "- $find\\_similar2$ : Για να είναι μία ταινία similar 2 με την ταινία στόχο θα πρέπει να έχει κοινή γλώσσα με αυτήν, ένα genre κοινό καθώς και απο μία έως τρεις λέξεις κλειδιά κοινές.\n",
        "\n",
        "- $find\\_similar1$ : Για να είναι μία ταινία similar 1 με την ταινία στόχο θα πρέπει να έχει κοινή γλώσσα με αυτήν, ένα genre κοινό καθώς και να έχει το ίδιο \"χρώμα\" (έγχρωμη ή ασπρόμαυρη) με την ταινία στόχο.\n",
        "\n",
        "$Παρατηρήσεις$ :\n",
        "\n",
        "- Τα κριτήρια που αναφέρονται παραπάνω παρουσιάζονται με σείρα δυναμικής, δηλαδή το κριτήριο find_similar5 θα δώσει τις ταινίες που είναι πολύ κοντά με την ταινία στόχο, στο κριτήριο find_similar4 τις ταινίες που είναι λιγότερο κοντά κλπ.\n",
        "\n",
        "- Τα κριτήρια που δημιουργήθηκαν είναι υποκειμενικά καθώς πιστευούμε ότι για να χαρακτηρίσουμε αν μία ταινία πρέπει να προταθεί μεγαλύτερη βαρύτητα έχουν οι κατηγορίες της ταινίας και η πλοκή της και όχι το αν παίζουν σε αυτή οι ίδιοι ηθοποιοί."
      ]
    },
    {
      "cell_type": "code",
      "metadata": {
        "id": "nwhdd9U5TBR9"
      },
      "source": [
        "prolog.consult('hard_recommendations.pl')"
      ],
      "execution_count": null,
      "outputs": []
    },
    {
      "cell_type": "code",
      "metadata": {
        "id": "kvdh4wig4rUd",
        "colab": {
          "base_uri": "https://localhost:8080/"
        },
        "outputId": "b4b858e9-2eaa-49d5-b367-960bb1fa4205"
      },
      "source": [
        "#αυτό το cell χρησιμοποιείται μόνο για να τσεκάρουμε αυτόνομα τα κριτήρια που δημιουργήσαμε \n",
        "#στο hard_recommendations.pl\n",
        "q = prolog.query(\"common_plot4('Men in Black', Y)\")\n",
        "\n",
        "s = set()\n",
        "lista = []\n",
        "for soln in q:\n",
        "    m = soln['Y'] \n",
        "    if m not in s:\n",
        "      s.add(soln['Y'])\n",
        "print(s)"
      ],
      "execution_count": null,
      "outputs": [
        {
          "output_type": "stream",
          "text": [
            "{'Men in Black II'}\n"
          ],
          "name": "stdout"
        }
      ]
    },
    {
      "cell_type": "markdown",
      "metadata": {
        "id": "RI53bHHmJss1"
      },
      "source": [
        "## Simple_Recommender function"
      ]
    },
    {
      "cell_type": "code",
      "metadata": {
        "id": "bh_jfhPC4rUd"
      },
      "source": [
        "def simple_recommender(movie, part3=False):\n",
        "    s1 = set()\n",
        "    s2 = set()\n",
        "    s3 = set()\n",
        "    s4 = set()\n",
        "    s5 = set()\n",
        "    list_of_movies = []\n",
        "\n",
        "    q = prolog.query(\"find_similar5('\" + movie +\"',M)\")\n",
        "    for soln in q:\n",
        "        m5 = soln['M'] \n",
        "        if m5 not in list_of_movies:\n",
        "            s5.add(soln['M'])\n",
        "            list_of_movies.append(soln['M'])\n",
        "    answers5 = s5\n",
        "\n",
        "    q = prolog.query(\"find_similar4('\" + movie +\"',M)\")\n",
        "    for soln in q:\n",
        "        m4 = soln['M'] \n",
        "        if m4 not in list_of_movies:\n",
        "            s4.add(soln['M'])\n",
        "            list_of_movies.append(soln['M'])\n",
        "    answers4 = s4\n",
        "\n",
        "    q = prolog.query(\"find_similar3('\" + movie +\"',M)\")\n",
        "    for soln in q:\n",
        "        m3 = soln['M'] \n",
        "        if m3 not in list_of_movies:\n",
        "            s3.add(soln['M'])\n",
        "            list_of_movies.append(soln['M'])\n",
        "    answers3 = s3   \n",
        "\n",
        "    q = prolog.query(\"find_similar2('\" + movie +\"',M)\")\n",
        "    for soln in q:\n",
        "        m2 = soln['M'] \n",
        "        if m2 not in list_of_movies:\n",
        "            s2.add(soln['M'])\n",
        "            list_of_movies.append(soln['M'])\n",
        "    answers2 = s2\n",
        "\n",
        "    q = prolog.query(\"find_similar1('\" + movie +\"',M)\")\n",
        "    for soln in q:\n",
        "      m1 = soln['M']\n",
        "      if m1 not in list_of_movies:\n",
        "        s1.add(soln['M'])\n",
        "        list_of_movies.append(soln['M'])\n",
        "    answers1 = s1\n",
        "\n",
        "    q.close()\n",
        "    if part3 == True:\n",
        "      return list(answers5), list(answers4), list(answers3), list(answers2), list(answers1)\n",
        "    else:\n",
        "      return list(answers5)[:10], list(answers4)[:10], list(answers3)[:10], list(answers2)[:10], list(answers1)[:10]"
      ],
      "execution_count": null,
      "outputs": []
    },
    {
      "cell_type": "markdown",
      "metadata": {
        "id": "Km7p6mqYJyfK"
      },
      "source": [
        "## Recommendations"
      ]
    },
    {
      "cell_type": "code",
      "metadata": {
        "id": "Ug_L_Qx-4rUd",
        "colab": {
          "base_uri": "https://localhost:8080/"
        },
        "outputId": "abb2f2ec-620e-4d76-97a0-8ed56b90dda6"
      },
      "source": [
        "simple_recommender('The Avengers')"
      ],
      "execution_count": null,
      "outputs": [
        {
          "output_type": "execute_result",
          "data": {
            "text/plain": [
              "(['Captain America: The Winter Soldier',\n",
              "  'Guardians of the Galaxy',\n",
              "  'Iron Man',\n",
              "  'Ant-Man',\n",
              "  'The Incredible Hulk',\n",
              "  'The Wolverine',\n",
              "  'Iron Man 3',\n",
              "  'Captain America: Civil War',\n",
              "  'X-Men Origins: Wolverine',\n",
              "  'Fantastic Four'],\n",
              " [],\n",
              " ['Scott Pilgrim vs. the World'],\n",
              " ['Hellboy II: The Golden Army',\n",
              "  'Battlefield Earth',\n",
              "  'Soul Surfer',\n",
              "  'Knight and Day',\n",
              "  'The Hitchhikers Guide to the Galaxy',\n",
              "  'X-Men: The Last Stand',\n",
              "  '300: Rise of an Empire',\n",
              "  '300',\n",
              "  'The Brothers Grimm',\n",
              "  'The X Files: I Want to Believe'],\n",
              " ['Starship Troopers',\n",
              "  'Kingdom of the Spiders',\n",
              "  'Doomsday',\n",
              "  'Hudson Hawk',\n",
              "  'The Man Who Knew Too Little',\n",
              "  'RoboCop 3',\n",
              "  'Spy Kids 2: The Island of Lost Dreams',\n",
              "  'The Transporter',\n",
              "  'Bad Company',\n",
              "  'Sleeper'])"
            ]
          },
          "metadata": {
            "tags": []
          },
          "execution_count": 8
        }
      ]
    },
    {
      "cell_type": "code",
      "metadata": {
        "colab": {
          "base_uri": "https://localhost:8080/"
        },
        "id": "G_UrJ2Jq2f03",
        "outputId": "c93792f0-a1cf-416b-b56e-784ac313f9a1"
      },
      "source": [
        "simple_recommender('Superman')"
      ],
      "execution_count": null,
      "outputs": [
        {
          "output_type": "execute_result",
          "data": {
            "text/plain": [
              "(['Batman v Superman: Dawn of Justice',\n",
              "  'Superman IV: The Quest for Peace',\n",
              "  'Superman III',\n",
              "  'Batman',\n",
              "  'Superman Returns',\n",
              "  'Man of Steel',\n",
              "  'Superman II'],\n",
              " ['Lethal Weapon 3'],\n",
              " ['Crimson Tide'],\n",
              " ['Hellboy II: The Golden Army',\n",
              "  'X-Men: The Last Stand',\n",
              "  'Terminator 3: Rise of the Machines',\n",
              "  'The Hitchhikers Guide to the Galaxy',\n",
              "  'Machete Kills',\n",
              "  'Ant-Man',\n",
              "  'The Brothers Grimm',\n",
              "  'Contraband',\n",
              "  'Austin Powers in Goldmember',\n",
              "  'The Way of the Gun'],\n",
              " ['Kingdom of the Spiders',\n",
              "  'Doomsday',\n",
              "  'Hudson Hawk',\n",
              "  'RoboCop 3',\n",
              "  'The Good Night',\n",
              "  'Sliding Doors',\n",
              "  'Platoon',\n",
              "  'Thomas and the Magic Railroad',\n",
              "  'Inception',\n",
              "  'Half Past Dead'])"
            ]
          },
          "metadata": {
            "tags": []
          },
          "execution_count": 13
        }
      ]
    },
    {
      "cell_type": "code",
      "metadata": {
        "colab": {
          "base_uri": "https://localhost:8080/"
        },
        "id": "MuWvTSrfy7vZ",
        "outputId": "644eb425-57a1-4290-8199-ad9efd104700"
      },
      "source": [
        "simple_recommender('Harry Potter and the Order of the Phoenix')"
      ],
      "execution_count": null,
      "outputs": [
        {
          "output_type": "execute_result",
          "data": {
            "text/plain": [
              "(['Harry Potter and the Goblet of Fire',\n",
              "  'Harry Potter and the Philosophers Stone',\n",
              "  'Harry Potter and the Chamber of Secrets',\n",
              "  'Harry Potter and the Prisoner of Azkaban',\n",
              "  'Harry Potter and the Half-Blood Prince'],\n",
              " [],\n",
              " [],\n",
              " ['Practical Magic',\n",
              "  'Mission: Impossible II',\n",
              "  'Star Wars: Episode I - The Phantom Menace',\n",
              "  'The Witch',\n",
              "  'Oz: The Great and Powerful',\n",
              "  'Last Action Hero',\n",
              "  'Inception',\n",
              "  'The Sorcerers Apprentice',\n",
              "  'First Blood',\n",
              "  'Dune'],\n",
              " ['Hellboy II: The Golden Army',\n",
              "  'Quest for Camelot',\n",
              "  'Starship Troopers',\n",
              "  'X-Men: The Last Stand',\n",
              "  'The Hitchhikers Guide to the Galaxy',\n",
              "  'The Devils Advocate',\n",
              "  'The Secret Life of Pets',\n",
              "  'Hudson Hawk',\n",
              "  'RoboCop 3',\n",
              "  '300'])"
            ]
          },
          "metadata": {
            "tags": []
          },
          "execution_count": 18
        }
      ]
    },
    {
      "cell_type": "code",
      "metadata": {
        "colab": {
          "base_uri": "https://localhost:8080/"
        },
        "id": "E5NgQ27HyB0m",
        "outputId": "fc4bc13e-71b5-46fe-a4a9-1dc5759f2fcc"
      },
      "source": [
        "simple_recommender('The Hunger Games: Mockingjay - Part 2')"
      ],
      "execution_count": null,
      "outputs": [
        {
          "output_type": "execute_result",
          "data": {
            "text/plain": [
              "([],\n",
              " ['The Hunger Games: Mockingjay - Part 1',\n",
              "  'The Hunger Games',\n",
              "  'The Hunger Games: Catching Fire',\n",
              "  'I Am Legend'],\n",
              " ['A Scanner Darkly',\n",
              "  'Cirque du Freak: The Vampires Assistant',\n",
              "  'Journey to the Center of the Earth',\n",
              "  'Journey 2: The Mysterious Island'],\n",
              " ['Starship Troopers',\n",
              "  'Eragon',\n",
              "  'Mad Max Beyond Thunderdome',\n",
              "  'Battlefield Earth',\n",
              "  'Alien³',\n",
              "  'Terminator 3: Rise of the Machines',\n",
              "  'Doomsday',\n",
              "  'Ant-Man',\n",
              "  '300: Rise of an Empire',\n",
              "  'RoboCop 3'],\n",
              " ['Hellboy II: The Golden Army',\n",
              "  'Kingdom of the Spiders',\n",
              "  'Soul Surfer',\n",
              "  'X-Men: The Last Stand',\n",
              "  'The Hitchhikers Guide to the Galaxy',\n",
              "  'The Man Who Knew Too Little',\n",
              "  'Hudson Hawk',\n",
              "  'The Transporter',\n",
              "  'Spy Kids 2: The Island of Lost Dreams',\n",
              "  '300'])"
            ]
          },
          "metadata": {
            "tags": []
          },
          "execution_count": 17
        }
      ]
    },
    {
      "cell_type": "code",
      "metadata": {
        "colab": {
          "base_uri": "https://localhost:8080/"
        },
        "id": "f179ZYGz3JgF",
        "outputId": "a32a62cc-2049-48d1-9735-a8d7ce6616dd"
      },
      "source": [
        "simple_recommender('Terminator 3: Rise of the Machines')"
      ],
      "execution_count": null,
      "outputs": [
        {
          "output_type": "execute_result",
          "data": {
            "text/plain": [
              "(['The Matrix Revolutions',\n",
              "  'Terminator Genisys',\n",
              "  'Terminator Salvation',\n",
              "  'The Matrix Reloaded',\n",
              "  'The Terminator'],\n",
              " ['Surrogates'],\n",
              " [],\n",
              " ['Starship Troopers',\n",
              "  'Mad Max Beyond Thunderdome',\n",
              "  'Battlefield Earth',\n",
              "  'Alien³',\n",
              "  'Doomsday',\n",
              "  'RoboCop 3',\n",
              "  'Sleeper',\n",
              "  'Austin Powers in Goldmember',\n",
              "  '2001: A Space Odyssey',\n",
              "  'Collateral Damage'],\n",
              " ['Kingdom of the Spiders',\n",
              "  'The Devils Advocate',\n",
              "  'Run, Hide, Die',\n",
              "  'Hudson Hawk',\n",
              "  'Platoon',\n",
              "  'Dracula 2000',\n",
              "  'After.Life',\n",
              "  'Thomas and the Magic Railroad',\n",
              "  'Inception',\n",
              "  'Half Past Dead'])"
            ]
          },
          "metadata": {
            "tags": []
          },
          "execution_count": 14
        }
      ]
    },
    {
      "cell_type": "markdown",
      "metadata": {
        "id": "On56dwVrKI9d"
      },
      "source": [
        "$Παρατηρήσεις$ :\n",
        "\n",
        "- Σε γενικές γραμμές τα recommendations που παίρνουμε εκ πρώτης όψεος μοιάζουν αρκετά καλά καθώς για κάθε μία απο τις παραπάνω ταινίες στόχους σαν similar 5 ταινίες προτείνονται είτε τα sequels αυτών είτε ταίνιες με αρκετά παρόμοια θεματική ενότητα.\n",
        "\n",
        "- Παρατηρούμε ότι σε κάποιες περιπτώσεις υπάρχουν πολλές ταινίες στο similar 5 και καμία ταινία στο similar 4. Αυτό είναι λογικό καθώς ταινίες όπως το $The\\ Avengers$ έχουν κοινή θεματική καθώς και κοινή πλοκή με αρκετές ταινίες της Marvel οι οποίες και προτείνονται στην κατηγορία similar 5. Όμως επειδή προτείνουμε αυτές τις ταινίες στην παραπάνω κατηγορία δεν μας μένουν άλλες ταινίες οι οποίες να πληρούν τα κριτηρία, ώστε να ανήκουν στην κατηγορία similar 4. Έτσι τονίζεται και πάλι ότι η υποκειμενικότητα στην κατασκευή των κριτηρίων κάνει τα αποτελέσματα ασταθή απο ομάδα σε ομάδα. \n",
        "\n",
        "- Ακολουθώντας την ίδια λογική με παραπάνω για την ταινία $The\\ Hunger\\ Games: Mockingjay - Part 2$ δεν μπορούμε να προτείνουμε κάποια ταινία που θα πληρεί τα κριτήρια που απαιτούνται για την ένταξη της στην κατηγορία similar 5. Όμως βλέπουμε ότι παρ' όλο που μπορεί να μην βρίσκουμε αρκετές ίδιες λέξεις κλειδία στην πλοκή ίδιες με τις υπόλοιπες ταινίες $The\\ Hunger\\ Games$ καταφέρνουμε να εντάξουμε τις ταινίες αυτές στην κατηγορία similar 4. \n",
        "\n",
        "- Γενικότερα το dataset μας περιέχει πολλά sequel πράγμα το οποίο σημαίνει ότι σε αρκετές περιπτώσεις είναι πιθανή η επικάλυψη της κατηγορίας similar 5 με την κατηγορία similar 4 με αποτέλεσμα κάποια απο τις 2 κατηγορίες να μένει κενή. Η συγκεκριμένη συμπεριφορά δεν αποτελεί πρόβλημα καθώς για την συμπλήρωση των κατηγοριών τα κριτήρια ακολουθούνται με την σειρά που θεωρήσαμε εμείς ότι είναι η πιο \"σωστή\"."
      ]
    },
    {
      "cell_type": "markdown",
      "metadata": {
        "id": "YjpTwOuO4rUd"
      },
      "source": [
        "# **3ο Μέρος: Recommendation System Με βάση τις προτιμήσεις-Αξιολογήσεις του χρήστη-Εκπαίδευση και Πρόβλεψη**\n",
        "\n",
        "\n",
        "\n",
        "\n",
        "\n"
      ]
    },
    {
      "cell_type": "code",
      "metadata": {
        "id": "lL9P3GOd4rUe"
      },
      "source": [
        "from tqdm.notebook import tqdm\n",
        "from sklearn.metrics import precision_score, recall_score, f1_score\n",
        "\n",
        "\n",
        "rating_weights = {0: -1, 1: -0.5, 2:0, 3:0, 4:0.5, 5:1}\n",
        "score_weights = {1:1, 2:2, 3:3, 4:4, 5:5} # ανάλογα με τα επίπεδα ομοιότητας που έχουν οριστεί στην simple_recommender\n",
        "\n",
        "def train_recommender(ratings, rating_weights, score_weights, start=0, end = -1, movie_score = {}, part3 = False):\n",
        "    \"\"\"\n",
        "    Στην συνάρτηση αυτή μπορούμε να ορίζουμε ποιο υποσύνολο των αξιολογήσεων θα χρησιμοποιήσουμε για το train,\n",
        "    ενώ παράλληλα μπορούμε να αρχικοποιήσουμε και το movie_score το οποίο αποθηκεύονται τα score κάθε ταινίας.\n",
        "    Έτσι αν έχουμε κάνει train τον recommender μας για τις πρώτες 10 ταινίες, μπορούμε να συνεχίσουμε για τις \n",
        "    υπόλοιπες χωρίς κάθε φορά να ξανά-διαμορφώνουμε το score για αυτές. Αυτό θα σας βοηθήσει στην εκτέλεση και χρονικά όταν ελέγχετε την \n",
        "    απόδοση σε υποσύνολα των ratings π.χ. πρώτες 10 ταινίες έπειτα τις επόμενες 20 κ.ο.κ.\n",
        "    \"\"\"\n",
        "    if end == -1:\n",
        "        end = len(ratings)\n",
        "\n",
        "    ratings = ratings.iloc[range(start, end)]\n",
        "    for row in tqdm(ratings.itertuples(index=True, name='Pandas')):\n",
        "        movie = clean_text(getattr(row, 'movie_title'))\n",
        "        rating = getattr(row, 'rating')\n",
        "\n",
        "        similar_movies = simple_recommender(movie, part3)\n",
        "\n",
        "\n",
        "        for similar_movie in similar_movies[0]: ### gia tis tainies sto find_similar5\n",
        "            if similar_movie not in movie_score:\n",
        "                movie_score[similar_movie] = rating_weights[int(rating)] * score_weights[5]\n",
        "            else:\n",
        "                movie_score[similar_movie] += rating_weights[int(rating)] * score_weights[5] #το weight θα το ορίσετε ανα επίπεδο ομοιότητας οι πολύ όμοιες ταινίες θα έχουν μεγαλύτερο βάρος\n",
        "\n",
        "        for similar_movie in similar_movies[1]: ### gia tis tainies sto find_similar4\n",
        "            if similar_movie not in movie_score:\n",
        "                movie_score[similar_movie] = rating_weights[int(rating)] * score_weights[4]\n",
        "            else:\n",
        "                movie_score[similar_movie] += rating_weights[int(rating)] * score_weights[4]    \n",
        "\n",
        "        for similar_movie in similar_movies[2]: ### gia tis tainies sto find_similar3\n",
        "            if similar_movie not in movie_score:\n",
        "                movie_score[similar_movie] = rating_weights[int(rating)] * score_weights[3]\n",
        "            else:\n",
        "                movie_score[similar_movie] += rating_weights[int(rating)] * score_weights[3]\n",
        "\n",
        "        for similar_movie in similar_movies[3]: ### gia tis tainies sto find_similar2\n",
        "            if similar_movie not in movie_score:\n",
        "                movie_score[similar_movie] = rating_weights[int(rating)] * score_weights[2]\n",
        "            else:\n",
        "                movie_score[similar_movie] += rating_weights[int(rating)] * score_weights[2]\n",
        "\n",
        "        for similar_movie in similar_movies[4]: ### gia tis tainies sto find_similar1\n",
        "            if similar_movie not in movie_score:\n",
        "                movie_score[similar_movie] = rating_weights[int(rating)] * score_weights[1]\n",
        "            else:\n",
        "                movie_score[similar_movie] += rating_weights[int(rating)] * score_weights[1]                            \n",
        "\n",
        "    return movie_score\n",
        "\n",
        "\n",
        "#αυτό είναι ένα παράδειγμα για το πως θα μπορούσε να υλοποιήθει η predict\n",
        "#έχουμε ορίσει ότι μια ταινία θα έπρεπε να είναι προτεινόμενη αν είχε σκορ > 0\n",
        "\n",
        "#στην δικία μας περίπτωση θέλουμε η ταινία να είναι προτεινόμενη αν έχει score>3 \n",
        "#και επομένως προσαρμόσαμε κατάλληλα την ακόλουθη συνάρτηση\n",
        "def predict_example(ratings, movie_score):\n",
        "    real, pred = [], []\n",
        "    for i, row in enumerate(ratings.itertuples(index=True, name='Pandas')):\n",
        "        movie = clean_text(getattr(row, 'movie_title'))\n",
        "        rating = getattr(row, 'rating')\n",
        "\n",
        "        if movie in movie_score: #αν έχουμε σχηματίσει βαθμολογία για την ταινία αυτή\n",
        "            pred.append(int(movie_score[movie] > 3)) #heuristic για το αν μια ταινία είναι προτεινόμενη\n",
        "            real.append(int(rating > 3))# έτσι ορίζουμε ότι μια ταινία θα έπρεπε να είναι προτεινόμενη\n",
        "            #η συνθήκη αυτή δεν μπορεί να αλλάξει\n",
        "        else: #δεν μπορούμε να προτείνουμε κάτι για το όποιο δεν έχουμε σχηματίσει εικόνα\n",
        "            pred.append(0)\n",
        "            real.append(int(rating > 3))\n",
        "    return real, pred\n",
        "\n",
        "\n",
        "def get_metrics(real, pred):\n",
        "    metrics = {}\n",
        "    metrics[\"precision\"] = precision_score(real, pred)\n",
        "    metrics[\"recall\"] = recall_score(real, pred)\n",
        "    metrics[\"f1\"] = f1_score(real, pred)\n",
        "    return metrics"
      ],
      "execution_count": null,
      "outputs": []
    },
    {
      "cell_type": "code",
      "metadata": {
        "id": "tnIDJLJX4rUe"
      },
      "source": [
        "train_ratings = pd.read_csv(path + \"train_ratings.csv\")\n",
        "test_ratings = pd.read_csv(path + \"test_ratings.csv\")"
      ],
      "execution_count": null,
      "outputs": []
    },
    {
      "cell_type": "markdown",
      "metadata": {
        "id": "JNWidIHEO-i8"
      },
      "source": [
        "## Train and predict using hard_recommendations.pl on a subset\n",
        "\n",
        "Έχοντας κάνει consult το $hard\\_recommendation.pl$ παρατηρήσαμε ότι δεν μπορούσαμε να κάνουμε train σε ολόκληρο το εύρος του training set καθώς το google colab στο οποίο εργαστήκαμε πραγματοποιούσε συνεχώς επανεκκίνηση του πυρήνα δίνοντας το error : $Too\\ many\\ stacked\\ strings$.\n",
        "\n",
        "Για αυτό το λόγο και για να είναι όσο το δυνατόν καλύτερα τα αποτελέσματα που θα παρουσιάσουμε θα εργαστούμε ως εξής:\n",
        "- Θα εκπαιδεύσουμε το μοντέλο μας χρησιμοποιώντας το hard_recommendations.pl σε όσο το δυνατόν μεγαλύτερο ποσοστό επί του αρχικού μεγέθους του training set. Η διαδικασία αυτή θα γίνει σταδιακά, ώστε να βλέπουμε τις τιμές των μετρικών σε κάθε βήμα.\n",
        "\n",
        "- Έπειτα θα δημιουργήσουμε ένα ακομά prolog αρχείο με όνομα $soft\\_recommendations.pl$ με το οποίο θα τρέξουμε την εκπαίδευση σε όλο το μήκος του training set. Θα αναφέρουμε περισσότερα στην επόμενη ενότητα."
      ]
    },
    {
      "cell_type": "code",
      "metadata": {
        "id": "IurBJXyA4rUe",
        "colab": {
          "base_uri": "https://localhost:8080/",
          "height": 84,
          "referenced_widgets": [
            "ecf2a7ade15446c58a04cbad03278eb3",
            "d0a3be6f8429486ab5b19f27f24b94d9",
            "14957efc7e6b4685979701c45e9295b2",
            "07fcbb4a21a24e87a2e123562e238f6b",
            "4f12d8ce2bb44e5aad7ffd9f91eb91e7",
            "a23b0eff07fa4ddd83e46cb820cc178c",
            "89fab19658244969b658fab7836fb354",
            "7f77799e36b0468a948c03941b7793db"
          ]
        },
        "outputId": "8a768d9a-d041-41da-9dc0-66331559dd15"
      },
      "source": [
        "movie_score = train_recommender(train_ratings, rating_weights, score_weights, 0, 10, part3 = True)\n",
        "real, pred = predict_example(test_ratings, movie_score)\n",
        "print (get_metrics(real, pred))"
      ],
      "execution_count": null,
      "outputs": [
        {
          "output_type": "display_data",
          "data": {
            "application/vnd.jupyter.widget-view+json": {
              "model_id": "ecf2a7ade15446c58a04cbad03278eb3",
              "version_minor": 0,
              "version_major": 2
            },
            "text/plain": [
              "HBox(children=(FloatProgress(value=1.0, bar_style='info', max=1.0), HTML(value='')))"
            ]
          },
          "metadata": {
            "tags": []
          }
        },
        {
          "output_type": "stream",
          "text": [
            "\n",
            "{'precision': 0.47619047619047616, 'recall': 0.1388888888888889, 'f1': 0.2150537634408602}\n"
          ],
          "name": "stdout"
        }
      ]
    },
    {
      "cell_type": "code",
      "metadata": {
        "id": "xmxaauVc4rUe",
        "colab": {
          "base_uri": "https://localhost:8080/",
          "height": 84,
          "referenced_widgets": [
            "d99bb10e53c940c8a68e4e0d7eac929e",
            "fe925a8f047a42b193ffac528549df87",
            "d0babf79eaef4d1f9647d17d9334d66c",
            "c664e3adfb4443aa9f50f83d0ec10b8b",
            "777727154ea24f98a752fac4f68b53a1",
            "a4b750750d964a89ad8af92d537a4049",
            "cb538c8a1cd043adb26f5ce828616c95",
            "942b65b8ec9a4bbbb50f19cd3344cb68"
          ]
        },
        "outputId": "b80fccdf-bb33-4f59-fcb2-9a5a70113cd2"
      },
      "source": [
        "movie_score = train_recommender(train_ratings, rating_weights, score_weights, 10, 20, movie_score, part3 = True)\n",
        "real, pred = predict_example(test_ratings, movie_score)\n",
        "print (get_metrics(real, pred))"
      ],
      "execution_count": null,
      "outputs": [
        {
          "output_type": "display_data",
          "data": {
            "application/vnd.jupyter.widget-view+json": {
              "model_id": "d99bb10e53c940c8a68e4e0d7eac929e",
              "version_minor": 0,
              "version_major": 2
            },
            "text/plain": [
              "HBox(children=(FloatProgress(value=1.0, bar_style='info', max=1.0), HTML(value='')))"
            ]
          },
          "metadata": {
            "tags": []
          }
        },
        {
          "output_type": "stream",
          "text": [
            "\n",
            "{'precision': 0.48333333333333334, 'recall': 0.4027777777777778, 'f1': 0.43939393939393945}\n"
          ],
          "name": "stdout"
        }
      ]
    },
    {
      "cell_type": "code",
      "metadata": {
        "id": "k3xVQlr44rUe",
        "colab": {
          "base_uri": "https://localhost:8080/",
          "height": 84,
          "referenced_widgets": [
            "126c0ad362054b58a5bb100366df0c49",
            "fad20fe6a44e4aedaba360d037ab12ef",
            "224213cc91ba4f7285cc9804d6aa3c35",
            "8b6022bf36bf46c091c3a8e5f2041641",
            "f8737446bf314a32a1accadbb9cc03fd",
            "0b03801265594f138ae79338f769116b",
            "7796e4a23c6548159820f6abf35944aa",
            "da2304f1d7604f92b673113a49d78311"
          ]
        },
        "outputId": "51fa4260-3623-4932-f426-313d2b60a94a"
      },
      "source": [
        "movie_score = train_recommender(train_ratings, rating_weights, score_weights, 20, 30, movie_score, part3 = True)\n",
        "real, pred = predict_example(test_ratings, movie_score)\n",
        "print (get_metrics(real, pred))"
      ],
      "execution_count": null,
      "outputs": [
        {
          "output_type": "display_data",
          "data": {
            "application/vnd.jupyter.widget-view+json": {
              "model_id": "126c0ad362054b58a5bb100366df0c49",
              "version_minor": 0,
              "version_major": 2
            },
            "text/plain": [
              "HBox(children=(FloatProgress(value=1.0, bar_style='info', max=1.0), HTML(value='')))"
            ]
          },
          "metadata": {
            "tags": []
          }
        },
        {
          "output_type": "stream",
          "text": [
            "\n",
            "{'precision': 0.525, 'recall': 0.5833333333333334, 'f1': 0.5526315789473685}\n"
          ],
          "name": "stdout"
        }
      ]
    },
    {
      "cell_type": "code",
      "metadata": {
        "id": "xCNY4yFN4rUe",
        "colab": {
          "base_uri": "https://localhost:8080/",
          "height": 84,
          "referenced_widgets": [
            "c8de3a74d8a74d7ab655cd138df0c659",
            "576a8688bfe64739a8a39fdce8416b00",
            "435bdc152424453ca6d5e492ffc9ab84",
            "42ad4d8b4af44ac1a385e4a890a7be3c",
            "eb49bfde35b04281a3d704ca95c75c4d",
            "41f5e3c69982436fb81157e3f7974c9c",
            "b2ca768e32444162b8511a92c6262599",
            "e6722ce3168a4d36b482eaeda058310a"
          ]
        },
        "outputId": "a9c5cc6d-86ca-48e5-f618-7fa1cd722b81"
      },
      "source": [
        "movie_score = train_recommender(train_ratings, rating_weights, score_weights, 30, 50, movie_score, part3 = True)\n",
        "real, pred = predict_example(test_ratings, movie_score)\n",
        "print (get_metrics(real, pred))"
      ],
      "execution_count": null,
      "outputs": [
        {
          "output_type": "display_data",
          "data": {
            "application/vnd.jupyter.widget-view+json": {
              "model_id": "c8de3a74d8a74d7ab655cd138df0c659",
              "version_minor": 0,
              "version_major": 2
            },
            "text/plain": [
              "HBox(children=(FloatProgress(value=1.0, bar_style='info', max=1.0), HTML(value='')))"
            ]
          },
          "metadata": {
            "tags": []
          }
        },
        {
          "output_type": "stream",
          "text": [
            "\n",
            "{'precision': 0.5288461538461539, 'recall': 0.7638888888888888, 'f1': 0.6250000000000001}\n"
          ],
          "name": "stdout"
        }
      ]
    },
    {
      "cell_type": "code",
      "metadata": {
        "colab": {
          "base_uri": "https://localhost:8080/",
          "height": 84,
          "referenced_widgets": [
            "0a12a0bac15341c2a381750ee7f50f27",
            "4023cfb6e60b481c8f57eca290fe1a4b",
            "12b5ad65179c4cf5a0f9cbfbc34390fe",
            "185b1d5047a340de84b56bc905d9d2cd",
            "05ab48274f3b498a87859dc84fa162d4",
            "166731b33610478fabb69c3531f168d3",
            "a104fb72983f4e2986dc7b1f49c0c706",
            "1ea2c6e1eed04b30842724f11cc60ec9"
          ]
        },
        "id": "17wHKjc06PCj",
        "outputId": "4a660847-cec5-4436-9e4d-eb39d2047d48"
      },
      "source": [
        "movie_score = train_recommender(train_ratings, rating_weights, score_weights, 50,60, movie_score, part3 = True)\n",
        "real, pred = predict_example(test_ratings, movie_score)\n",
        "print (get_metrics(real, pred))"
      ],
      "execution_count": null,
      "outputs": [
        {
          "output_type": "display_data",
          "data": {
            "application/vnd.jupyter.widget-view+json": {
              "model_id": "0a12a0bac15341c2a381750ee7f50f27",
              "version_minor": 0,
              "version_major": 2
            },
            "text/plain": [
              "HBox(children=(FloatProgress(value=1.0, bar_style='info', max=1.0), HTML(value='')))"
            ]
          },
          "metadata": {
            "tags": []
          }
        },
        {
          "output_type": "stream",
          "text": [
            "\n",
            "{'precision': 0.5238095238095238, 'recall': 0.7638888888888888, 'f1': 0.6214689265536724}\n"
          ],
          "name": "stdout"
        }
      ]
    },
    {
      "cell_type": "code",
      "metadata": {
        "colab": {
          "base_uri": "https://localhost:8080/",
          "height": 84,
          "referenced_widgets": [
            "5b09e5468a994aebbf6ebe36bd3c5825",
            "3e1bea9f23bc4cac81b6c6021cf3b9c6",
            "c9d71469058e43db8501ab2aad804bb7",
            "5429a6cae4284009b445b6b3a2e4d91a",
            "88455696938745dd8b2f19c96fcbeae7",
            "46d8c2ebf6a84f9fa59176ef09d28cb8",
            "666af09fabca4d809c35daae214f6526",
            "8105775496ce4e31979052f1c39627af"
          ]
        },
        "id": "rHEcYiIJ6aja",
        "outputId": "62d6adfb-ed87-4a89-81f8-2eaced00a6a7"
      },
      "source": [
        "movie_score = train_recommender(train_ratings, rating_weights, score_weights, 75,-1, movie_score, part3 = True)\n",
        "real, pred = predict_example(test_ratings, movie_score)\n",
        "print (get_metrics(real, pred))"
      ],
      "execution_count": null,
      "outputs": [
        {
          "output_type": "display_data",
          "data": {
            "application/vnd.jupyter.widget-view+json": {
              "model_id": "5b09e5468a994aebbf6ebe36bd3c5825",
              "version_minor": 0,
              "version_major": 2
            },
            "text/plain": [
              "HBox(children=(FloatProgress(value=1.0, bar_style='info', max=1.0), HTML(value='')))"
            ]
          },
          "metadata": {
            "tags": []
          }
        },
        {
          "output_type": "stream",
          "text": [
            "\n",
            "{'precision': 0.5357142857142857, 'recall': 0.8333333333333334, 'f1': 0.6521739130434783}\n"
          ],
          "name": "stdout"
        }
      ]
    },
    {
      "cell_type": "markdown",
      "metadata": {
        "id": "UpUdj-yNRNli"
      },
      "source": [
        "Παρατηρούμε ότι καταφέραμε να κάνουμε train πάνω σε 85 δείγματα απο τα 101 που υπάρχουν συνολικά χωρίς να μας κάνει restart το google colab. Οι τελικές τιμές για τις μετρικές που πήραμε είναι:\n",
        "- $precision = 0.5357$\n",
        "- $recall = 0.8333$\n",
        "- $f1\\_score = 0.6521$\n",
        "\n",
        "Το γεγονός ότι δεν καταφέραμε να τελειώσουμε την εκπαίδευση μας κάνει να μην μπορούμε να πούμε με ασφάλεια ότι τα scores που πήραμε είναι τα τελικά καθώς λόγω του μικρού μήκους του dataset μας η τιμές των μετρικών (και συγκεκριμένα του recall) είναι αρκετά ευαίσθητες. Κρίνοντας απο την σταδιακή πορεία της εκπαίδευσης θα περιμέναμε κάποια αισθητή αύξηση του recall και πιθανόν μία μικρή αύξηση του precision."
      ]
    },
    {
      "cell_type": "markdown",
      "metadata": {
        "id": "R8UerRY7Vlnh"
      },
      "source": [
        "## Train and predict using solf_recommendations.pl\n",
        "\n"
      ]
    },
    {
      "cell_type": "markdown",
      "metadata": {
        "id": "SKriTHmrafMX"
      },
      "source": [
        "### Definition of similar functions\n",
        "\n",
        "Όπως παρατηρήσαμε προηγουμένως χρησιμοποιώντας το $hard\\_recommendations.pl$ δεν μπορούσαμε να κάνουμε train σε ολόκληρο το εύρος του training set. Για αυτό το λόγο δημιουργούμε ένα νέο αρχείο κώδικα το $soft\\_recommendations.pl$ το οποίο περιέχει τις ίδιες συναρτήσεις με το $hard\\_recommendations.pl$ με την μόνη διαφορά στην συνάρτηση $find\\_similar5$ η οποία αντί να περιέχει 4 και άνω λέξεις-κλειδιά κοινές από την πλοκή, περιέχει 1 έως 3 κοινές λέξεις-κλειδιά από την πλοκή. Αυτή η αλλαγή ήταν αρκετή ώστε να μας επιτρέψει να εκτελέσουμε την διαδικασία του training πάνω σε όλο το set.\n"
      ]
    },
    {
      "cell_type": "markdown",
      "metadata": {
        "id": "ZhEWRax7d_CM"
      },
      "source": [
        "$$Important$$\n",
        "\n",
        "Για να τρέξετε το παρακάτω κομμάτι κώδικα για την εκπαίδευση με το soft_recommendations.pl πρέπει να γίνει hard reset του kernel στο google colab αλλίως τα αποτελέσματα δεν είναι σωστά. Αυτή ηταν η διαδικασία που ακολουθήσαμε εμείς για να είμαστε σίγουροι για τα αποτελέσματα. \n",
        "\n",
        "Επομένως πρέπει να ξανα τρεχτούν όλα τα παραπάνω κελία εκτός του consult που αφορά το hard_recommendations.pl."
      ]
    },
    {
      "cell_type": "code",
      "metadata": {
        "id": "Li1KipSOVu0j"
      },
      "source": [
        "prolog.consult('soft_recommendations.pl')"
      ],
      "execution_count": null,
      "outputs": []
    },
    {
      "cell_type": "markdown",
      "metadata": {
        "id": "blQkx_tqarWb"
      },
      "source": [
        "### Training"
      ]
    },
    {
      "cell_type": "code",
      "metadata": {
        "colab": {
          "base_uri": "https://localhost:8080/",
          "height": 84,
          "referenced_widgets": [
            "d17bca3075bd4d3a9e9b38d98202065b",
            "20921532ac1f497793729ca8ffa28a7e",
            "24af7afa658847dea63618b11420e478",
            "1576d86281bb4825936543b07a899873",
            "82256465a3734d9fbb07ea864f6347d0",
            "3de0bb75b0464d3d818cdc5004803795",
            "5ea6ba8121a84074b7193187a197692f",
            "93b9dbde1f8944e6826a857179ca5b8b"
          ]
        },
        "id": "6Y_kg-GmV8wX",
        "outputId": "78c632f7-8749-42fa-83ed-60129890247a"
      },
      "source": [
        "movie_score = train_recommender(train_ratings, rating_weights, score_weights, 0, 10, part3 = True)\n",
        "real, pred = predict_example(test_ratings, movie_score)\n",
        "print (get_metrics(real, pred))"
      ],
      "execution_count": null,
      "outputs": [
        {
          "output_type": "display_data",
          "data": {
            "application/vnd.jupyter.widget-view+json": {
              "model_id": "d17bca3075bd4d3a9e9b38d98202065b",
              "version_minor": 0,
              "version_major": 2
            },
            "text/plain": [
              "HBox(children=(FloatProgress(value=1.0, bar_style='info', max=1.0), HTML(value='')))"
            ]
          },
          "metadata": {
            "tags": []
          }
        },
        {
          "output_type": "stream",
          "text": [
            "\n",
            "{'precision': 0.46153846153846156, 'recall': 0.08333333333333333, 'f1': 0.1411764705882353}\n"
          ],
          "name": "stdout"
        }
      ]
    },
    {
      "cell_type": "code",
      "metadata": {
        "colab": {
          "base_uri": "https://localhost:8080/",
          "height": 84,
          "referenced_widgets": [
            "f73353b0e2f748409889e798f78c5021",
            "54db50f32c9449d1b1681270b27a350e",
            "502f74ad5ec4494d8e4a4b78c36ae0fd",
            "6cb2c317ae194b92ba3eeae2b2834028",
            "a0af626b789b447fab677eaecd146f3c",
            "6eed412860bb4214a8f8aa0e0be35f5b",
            "7a7bef1ec1fa4c26b16831cfc1b66ea2",
            "ab5760c6f0304c25a8cc06b6b070459a"
          ]
        },
        "id": "2U66XcX2V8ww",
        "outputId": "d1ec081c-ab6c-4971-8680-48bc0bc5c104"
      },
      "source": [
        "movie_score = train_recommender(train_ratings, rating_weights, score_weights, 10, 20, movie_score, part3 = True)\n",
        "real, pred = predict_example(test_ratings, movie_score)\n",
        "print (get_metrics(real, pred))"
      ],
      "execution_count": null,
      "outputs": [
        {
          "output_type": "display_data",
          "data": {
            "application/vnd.jupyter.widget-view+json": {
              "model_id": "f73353b0e2f748409889e798f78c5021",
              "version_minor": 0,
              "version_major": 2
            },
            "text/plain": [
              "HBox(children=(FloatProgress(value=1.0, bar_style='info', max=1.0), HTML(value='')))"
            ]
          },
          "metadata": {
            "tags": []
          }
        },
        {
          "output_type": "stream",
          "text": [
            "\n",
            "{'precision': 0.5, 'recall': 0.16666666666666666, 'f1': 0.25}\n"
          ],
          "name": "stdout"
        }
      ]
    },
    {
      "cell_type": "code",
      "metadata": {
        "colab": {
          "base_uri": "https://localhost:8080/",
          "height": 84,
          "referenced_widgets": [
            "3a6c2f95391d45cea5b17eaef5d0620a",
            "753e541a3a9c43778a6cda4b91a0d442",
            "cc7d2ca0f0194b91831ccc32f9cb2ba8",
            "b50551fe7e8a46f6bde8ccf9cd5cc474",
            "ae88107cd32b45adacf6329c1d5358b7",
            "5b6e5346bdef4c27be4448475eda4116",
            "6d028d2deb2342e69b2dd49bd27749bd",
            "e4af3468885e4ab1aeda832405ffa942"
          ]
        },
        "id": "K-nOZEtaV8ww",
        "outputId": "8409371f-c5f9-4ce1-c35e-e6f90964532c"
      },
      "source": [
        "movie_score = train_recommender(train_ratings, rating_weights, score_weights, 20, 30, movie_score, part3 = True)\n",
        "real, pred = predict_example(test_ratings, movie_score)\n",
        "print (get_metrics(real, pred))"
      ],
      "execution_count": null,
      "outputs": [
        {
          "output_type": "display_data",
          "data": {
            "application/vnd.jupyter.widget-view+json": {
              "model_id": "3a6c2f95391d45cea5b17eaef5d0620a",
              "version_minor": 0,
              "version_major": 2
            },
            "text/plain": [
              "HBox(children=(FloatProgress(value=1.0, bar_style='info', max=1.0), HTML(value='')))"
            ]
          },
          "metadata": {
            "tags": []
          }
        },
        {
          "output_type": "stream",
          "text": [
            "\n",
            "{'precision': 0.48936170212765956, 'recall': 0.3194444444444444, 'f1': 0.3865546218487395}\n"
          ],
          "name": "stdout"
        }
      ]
    },
    {
      "cell_type": "code",
      "metadata": {
        "colab": {
          "base_uri": "https://localhost:8080/",
          "height": 84,
          "referenced_widgets": [
            "62d0abf997e043bdb8cf4191de1eb856",
            "6c58c23a411841fdb1fd37c201ca1259",
            "41989c9df0164087a47e42d731bf3232",
            "d7e0bbed0efb452b80461ed03c425220",
            "525fa4657cbd4b30a80a96cdadab1b01",
            "9eb662991ee945859409d95677bbc48f",
            "e94e6fadb5b745cbabf547370ba5c087",
            "8df30b9480b8442db46eeb3f54a91c39"
          ]
        },
        "id": "s3kZyNK4V8wx",
        "outputId": "7fd1edd9-5f3d-425f-9652-c96727c049ae"
      },
      "source": [
        "movie_score = train_recommender(train_ratings, rating_weights, score_weights, 30, 50, movie_score, part3 = True)\n",
        "real, pred = predict_example(test_ratings, movie_score)\n",
        "print (get_metrics(real, pred))"
      ],
      "execution_count": null,
      "outputs": [
        {
          "output_type": "display_data",
          "data": {
            "application/vnd.jupyter.widget-view+json": {
              "model_id": "62d0abf997e043bdb8cf4191de1eb856",
              "version_minor": 0,
              "version_major": 2
            },
            "text/plain": [
              "HBox(children=(FloatProgress(value=1.0, bar_style='info', max=1.0), HTML(value='')))"
            ]
          },
          "metadata": {
            "tags": []
          }
        },
        {
          "output_type": "stream",
          "text": [
            "\n",
            "{'precision': 0.5360824742268041, 'recall': 0.7222222222222222, 'f1': 0.6153846153846153}\n"
          ],
          "name": "stdout"
        }
      ]
    },
    {
      "cell_type": "code",
      "metadata": {
        "colab": {
          "base_uri": "https://localhost:8080/",
          "height": 84,
          "referenced_widgets": [
            "743c7c64bd8a48c4b0c560e1c463691d",
            "de0755e1d6de41e0897eeded32d6ebb5",
            "99a82cc302494063b7f3c890a40d6c46",
            "14d577da82ac455884ba249c1458c4b0",
            "c133d3dcec1f4d4c89d27622ecc6e5da",
            "85180f7a4fee4c69885af6e36f04cbe8",
            "34c3c83cfe954f0ab5828c08d7272141",
            "a47e7eee9664460093fb24ab056044b0"
          ]
        },
        "id": "C62PBgRedUYl",
        "outputId": "e8f29159-19a4-4b22-c4f5-ed65ed939026"
      },
      "source": [
        "movie_score = train_recommender(train_ratings, rating_weights, score_weights, 50, 90, movie_score, part3 = True)\n",
        "real, pred = predict_example(test_ratings, movie_score)\n",
        "print (get_metrics(real, pred))"
      ],
      "execution_count": null,
      "outputs": [
        {
          "output_type": "display_data",
          "data": {
            "application/vnd.jupyter.widget-view+json": {
              "model_id": "743c7c64bd8a48c4b0c560e1c463691d",
              "version_minor": 0,
              "version_major": 2
            },
            "text/plain": [
              "HBox(children=(FloatProgress(value=1.0, bar_style='info', max=1.0), HTML(value='')))"
            ]
          },
          "metadata": {
            "tags": []
          }
        },
        {
          "output_type": "stream",
          "text": [
            "\n",
            "{'precision': 0.5229357798165137, 'recall': 0.7916666666666666, 'f1': 0.6298342541436462}\n"
          ],
          "name": "stdout"
        }
      ]
    },
    {
      "cell_type": "code",
      "metadata": {
        "id": "E1Qh4bUp4rUe",
        "colab": {
          "base_uri": "https://localhost:8080/",
          "height": 84,
          "referenced_widgets": [
            "fecf961357ba42bab399b23fe5955e79",
            "d9da65f7d8474a1b861403399e0bd513",
            "c6e2cc85cb1d4356ba29240352c9ce26",
            "5a353b47c4e14cfa9f1d66281387b58a",
            "30e50bef6c56435d84b7177b8d332cd2",
            "7cb459a4f58b4beeb109fc8793db0e53",
            "c5f91a03d0fc400799fe502f1c3dfe2d",
            "7e376947286346f885318d96fe7013f1"
          ]
        },
        "outputId": "0eeb7729-e682-4eac-c7f1-6b1f290f6432"
      },
      "source": [
        "movie_score = train_recommender(train_ratings, rating_weights, score_weights,start = 90, movie_score = movie_score, part3 = True)\n",
        "real, pred = predict_example(test_ratings, movie_score)\n",
        "print (get_metrics(real, pred))"
      ],
      "execution_count": null,
      "outputs": [
        {
          "output_type": "display_data",
          "data": {
            "application/vnd.jupyter.widget-view+json": {
              "model_id": "fecf961357ba42bab399b23fe5955e79",
              "version_minor": 0,
              "version_major": 2
            },
            "text/plain": [
              "HBox(children=(FloatProgress(value=1.0, bar_style='info', max=1.0), HTML(value='')))"
            ]
          },
          "metadata": {
            "tags": []
          }
        },
        {
          "output_type": "stream",
          "text": [
            "\n",
            "{'precision': 0.5267857142857143, 'recall': 0.8194444444444444, 'f1': 0.641304347826087}\n"
          ],
          "name": "stdout"
        }
      ]
    },
    {
      "cell_type": "markdown",
      "metadata": {
        "id": "AH9DG5g-VqN-"
      },
      "source": [
        "## Result analysis\n",
        "\n",
        "Οι τελικές τιμές για τις μετρικές που πήραμε κατά την εκπαίδευση με το αρχείο solf_recommendations.pl σε όλο το training set είναι:\n",
        "- $precision = 0.5267$\n",
        "- $recall = 0.8194$\n",
        "- $f1\\_score = 0.6413$\n",
        "\n",
        "Όπως περιμέναμε οι τιμές για τις μετρικές με την χρήση του solf_recommendations είναι χειρότερες από αυτές που πήραμε με την χρήση του αρχείου hard_recommendations.pl.\n",
        "\n",
        "Έτσι, λοιπόν, συμπεραίνουμε ότι η ποιότητα των recommendations ήταν καλύτερη στην πρώτη περίπτωση και παρ' όλη την μη ολοκλήρωση της εκπαίδευσης τα αποτελέσματα που πήραμε ήταν καλύτερα. Αυτά τα παραθέτουμε ξανά παρακάτω:\n",
        "\n",
        "- $precision = 0.5357$\n",
        "- $recall = 0.8333$\n",
        "- $f1\\_score = 0.6521$\n"
      ]
    }
  ]
}